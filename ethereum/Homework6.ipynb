{
 "cells": [
  {
   "cell_type": "markdown",
   "id": "64e8e371",
   "metadata": {},
   "source": [
    "# 11주 은행\n",
    "은행 컨트랙을 프로그램하여 아래 기능을 실행하도록 하세요.\n",
    "\n",
    "* 입금액을 매개변수로 넣어서 입금하세요. amount가 실제 입금액과 일치하지 않으면 오류.\n",
    "\n",
    "\tfunction deposit(uint amount)\n",
    "\n",
    "* 전액 인출 함수를 구현하세요. 인출 금액을 정하지 않아도 되므로 함수의 인자가 없다.\n",
    "\n",
    "\tfunction widthdrawAll()\n",
    "\n",
    "* 컨트랙 잔고확인 함수 (this를 이용한 잔고, 상태변수 잔고 (this 잔고가 맞는지 확인하는 용도)\n",
    "\n",
    "\tfunction getBalance() public view returns(uint, uint)\n",
    "\n",
    "* 다른 계정으로 계좌이체 함수\n",
    "\n",
    "\tfunction forwardTo(address payable _receiver) public payable\n",
    "\n",
    "* fallback()을 입금가능하도록 구현하세요. fallback이 호출되면 이벤트가 발생하여 전송자와 금액을 출력하세요.\n",
    "\n",
    "이벤트 함수명은 PrintLog(address from, uint amount)\n",
    "\n",
    "\n",
    "\n",
    "주피터 노트북에서 컴파일, 배포한 후, 아래 기능을 실행하여 그 결과를 출력하세요.\n",
    "\n",
    "ganache 8335 띄우고, 노드로 하세요.\n",
    "\n",
    "- 입금 11111 wei, 222 wei를 하고 컨트랙잔고 11333 wei 출력\n",
    "\n",
    "- 자신의 2번째 계정으로 계좌이체 333 wei하고 컨트랙잔고 11000 wei 출력, 자신의 2번째 계정 잔고 증가분 (+333 wei) 출력\n",
    "\n",
    "- 전액 인출하고 11000 wei, 자신의 잔고 증가분 출력 (+11000 wei)\n",
    "\n",
    "- 컨트랙으로 111 송금하고, deposit()이 아니라 fallback으로 입금하세요. 컨트랙잔고 111 wei 출력.\n",
    "\n"
   ]
  },
  {
   "cell_type": "markdown",
   "id": "1038e061",
   "metadata": {},
   "source": [
    "## 계좌 조회"
   ]
  },
  {
   "cell_type": "code",
   "execution_count": 8,
   "id": "cc1dd989",
   "metadata": {},
   "outputs": [
    {
     "name": "stdout",
     "output_type": "stream",
     "text": [
      "Writing src/web3accounts8335.js\n"
     ]
    }
   ],
   "source": [
    "%%writefile src/web3accounts8335.js\n",
    "var Web3 = require('web3');\n",
    "var web3 = new Web3('http://localhost:8335');\n",
    "web3.eth.getAccounts(function(err,res) { console.log(\"(1) accounts: \" + res); } );\n",
    "my=[]\n",
    "web3.eth.getAccounts(function(err, res) { for (x in res) { my.push(res[x]) } } );\n",
    "console.log(\"(2) accounts from array: \" + my[0]);"
   ]
  },
  {
   "cell_type": "code",
   "execution_count": 3,
   "id": "93be450b",
   "metadata": {},
   "outputs": [
    {
     "name": "stdout",
     "output_type": "stream",
     "text": [
      "(2) accounts from array: undefined\n",
      "(1) accounts: 0x5854A437C9eE1ccED6fa05179D71699A5902F69a,0x702Fe077271b29bd562832ec8986Ab578E375Cc7,0x56762cAC1C6BfE48D656FaC0156dFD4b759FC9E0,0x28DB61a266f1eb2A4322CEb53c828E98210A1cad,0xd009DE3ed3726Eea9170d338F547486a83B4dc70,0xEc755dedCf8BACB8d4C8c0CD2b8588176169d820,0x43521B7030705071550297303d370008D7D899e6,0xD4F979cF5544CD694d82Bb20e1021b580cB84262,0xeF824996490D022E20849f54f6AA4956ccCC8DDD,0xe1200Cd397b6C0109B8987E2Bb4B0b91a2307Aba\n"
     ]
    }
   ],
   "source": [
    "!node src\\web3accounts8335.js"
   ]
  },
  {
   "cell_type": "markdown",
   "id": "69369140",
   "metadata": {},
   "source": [
    "## 함수 작성"
   ]
  },
  {
   "cell_type": "code",
   "execution_count": 1,
   "id": "71d93263",
   "metadata": {},
   "outputs": [
    {
     "name": "stdout",
     "output_type": "stream",
     "text": [
      "Overwriting src/Bank.sol\n"
     ]
    }
   ],
   "source": [
    "%%writefile src/Bank.sol\n",
    "pragma solidity ^0.6.4;\n",
    "\n",
    "contract Bank {\n",
    "    address payable owner;\n",
    "    uint balance;\n",
    "    event PrintLog(address from, uint amount);\n",
    "    constructor() public {\n",
    "        owner = msg.sender;\n",
    "        balance = 0;\n",
    "    }\n",
    "    function deposit(uint amount) public payable {\n",
    "        require(msg.value == amount);\n",
    "        balance += amount;\n",
    "    }\n",
    "    function widthdrawAll() public {\n",
    "        owner.transfer(balance);\n",
    "        balance = 0;\n",
    "    }\n",
    "    function getBalance() public view returns(uint, uint) {\n",
    "        return (balance, address(this).balance);\n",
    "    }\n",
    "    function forwardTo(address payable _receiver) public payable {\n",
    "        balance -= msg.value;\n",
    "        owner.transfer(msg.value);\n",
    "        _receiver.transfer(msg.value);\n",
    "    }\n",
    "    fallback () external payable {\n",
    "        emit PrintLog(msg.sender, msg.value);\n",
    "    }\n",
    "}"
   ]
  },
  {
   "cell_type": "code",
   "execution_count": 4,
   "id": "7b293245",
   "metadata": {},
   "outputs": [
    {
     "name": "stdout",
     "output_type": "stream",
     "text": [
      "\n",
      "======= src/Bank.sol:Bank =======\n",
      "Gas estimation:\n",
      "construction:\n",
      "   26082 + 154800 = 180882\n",
      "external:\n",
      "   fallback:\t1507\n",
      "   deposit(uint256):\t21103\n",
      "   forwardTo(address):\tinfinite\n",
      "   getBalance():\t1027\n",
      "   widthdrawAll():\tinfinite\n",
      "Binary:\n",
      "608060405234801561001057600080fd5b50336000806101000a81548173ffffffffffffffffffffffffffffffffffffffff021916908373ffffffffffffffffffffffffffffffffffffffff1602179055506000600181905550610306806100686000396000f3fe6080604052600436106100435760003560e01c806312065fe0146100b157806327d8ad88146100e35780633c45937514610127578063b6b55f251461013e57610044565b5b7fac247564f70be8d5e06a6068acf596e7bbca33994b256697b38d49095d4f38053334604051808373ffffffffffffffffffffffffffffffffffffffff1673ffffffffffffffffffffffffffffffffffffffff1681526020018281526020019250505060405180910390a1005b3480156100bd57600080fd5b506100c661016c565b604051808381526020018281526020019250505060405180910390f35b610125600480360360208110156100f957600080fd5b81019080803573ffffffffffffffffffffffffffffffffffffffff16906020019092919050505061017b565b005b34801561013357600080fd5b5061013c61023d565b005b61016a6004803603602081101561015457600080fd5b81019080803590602001909291905050506102b1565b005b60008060015447915091509091565b346001600082825403925050819055506000809054906101000a900473ffffffffffffffffffffffffffffffffffffffff1673ffffffffffffffffffffffffffffffffffffffff166108fc349081150290604051600060405180830381858888f193505050501580156101f2573d6000803e3d6000fd5b508073ffffffffffffffffffffffffffffffffffffffff166108fc349081150290604051600060405180830381858888f19350505050158015610239573d6000803e3d6000fd5b5050565b6000809054906101000a900473ffffffffffffffffffffffffffffffffffffffff1673ffffffffffffffffffffffffffffffffffffffff166108fc6001549081150290604051600060405180830381858888f193505050501580156102a6573d6000803e3d6000fd5b506000600181905550565b8034146102bd57600080fd5b806001600082825401925050819055505056fea26469706673582212202790db2f0f1c60453ae9e7f7e7d722264b57315068de195f9d0ad0bd2e4bef3a64736f6c63430006040033\n",
      "Contract JSON ABI\n",
      "[{\"inputs\":[],\"stateMutability\":\"nonpayable\",\"type\":\"constructor\"},{\"anonymous\":false,\"inputs\":[{\"indexed\":false,\"internalType\":\"address\",\"name\":\"from\",\"type\":\"address\"},{\"indexed\":false,\"internalType\":\"uint256\",\"name\":\"amount\",\"type\":\"uint256\"}],\"name\":\"PrintLog\",\"type\":\"event\"},{\"stateMutability\":\"payable\",\"type\":\"fallback\"},{\"inputs\":[{\"internalType\":\"uint256\",\"name\":\"amount\",\"type\":\"uint256\"}],\"name\":\"deposit\",\"outputs\":[],\"stateMutability\":\"payable\",\"type\":\"function\"},{\"inputs\":[{\"internalType\":\"address payable\",\"name\":\"_receiver\",\"type\":\"address\"}],\"name\":\"forwardTo\",\"outputs\":[],\"stateMutability\":\"payable\",\"type\":\"function\"},{\"inputs\":[],\"name\":\"getBalance\",\"outputs\":[{\"internalType\":\"uint256\",\"name\":\"\",\"type\":\"uint256\"},{\"internalType\":\"uint256\",\"name\":\"\",\"type\":\"uint256\"}],\"stateMutability\":\"view\",\"type\":\"function\"},{\"inputs\":[],\"name\":\"widthdrawAll\",\"outputs\":[],\"stateMutability\":\"nonpayable\",\"type\":\"function\"}]\n"
     ]
    },
    {
     "name": "stderr",
     "output_type": "stream",
     "text": [
      "Warning: This contract has a payable fallback function, but no receive ether function. Consider adding a receive ether function.\n",
      " --> src/Bank.sol:3:1:\n",
      "  |\n",
      "3 | contract Bank {\n",
      "  | ^ (Relevant source part starts here and spans across multiple lines).\n",
      "Note: The payable fallback function is defined here.\n",
      "  --> src/Bank.sol:27:5:\n",
      "   |\n",
      "27 |     fallback () external payable {\n",
      "   |     ^ (Relevant source part starts here and spans across multiple lines).\n",
      "\n"
     ]
    }
   ],
   "source": [
    "!solc --gas --bin --abi src/Bank.sol"
   ]
  },
  {
   "cell_type": "markdown",
   "id": "cfd27948",
   "metadata": {},
   "source": [
    "## 배포"
   ]
  },
  {
   "cell_type": "code",
   "execution_count": 3,
   "id": "4ea0fdac",
   "metadata": {},
   "outputs": [
    {
     "name": "stderr",
     "output_type": "stream",
     "text": [
      "Warning: This contract has a payable fallback function, but no receive ether function. Consider adding a receive ether function.\n",
      " --> src/Bank.sol:3:1:\n",
      "  |\n",
      "3 | contract Bank {\n",
      "  | ^ (Relevant source part starts here and spans across multiple lines).\n",
      "Note: The payable fallback function is defined here.\n",
      "  --> src/Bank.sol:27:5:\n",
      "   |\n",
      "27 |     fallback () external payable {\n",
      "   |     ^ (Relevant source part starts here and spans across multiple lines).\n",
      "\n"
     ]
    }
   ],
   "source": [
    "!solc --optimize --combined-json abi,bin src/Bank.sol > src/Bank.json"
   ]
  },
  {
   "cell_type": "code",
   "execution_count": 5,
   "id": "f8a06791",
   "metadata": {},
   "outputs": [
    {
     "name": "stdout",
     "output_type": "stream",
     "text": [
      "Overwriting src/BankDeploy.js\n"
     ]
    }
   ],
   "source": [
    "%%writefile src/BankDeploy.js\n",
    "var Web3=require('web3');\n",
    "var web3;\n",
    "var _abiBinJson = require('./Bank.json');\n",
    "contractName=Object.keys(_abiBinJson.contracts);\n",
    "_abi=_abiBinJson.contracts[contractName].abi;\n",
    "_abiArray=JSON.parse(_abi);\n",
    "_bin=_abiBinJson.contracts[contractName].bin;\n",
    "if (typeof web3 !== 'undefined') {\n",
    "    web3 = new Web3(web3.currentProvider);\n",
    "} else {\n",
    "    web3 = new Web3(new Web3.providers.HttpProvider(\"http://localhost:8335\"));\n",
    "}\n",
    "var _abiArray=[{\"inputs\":[],\"stateMutability\":\"nonpayable\",\"type\":\"constructor\"},{\"anonymous\":false,\"inputs\":[{\"indexed\":false,\"internalType\":\"address\",\"name\":\"from\",\"type\":\"address\"},{\"indexed\":false,\"internalType\":\"uint256\",\"name\":\"amount\",\"type\":\"uint256\"}],\"name\":\"PrintLog\",\"type\":\"event\"},{\"stateMutability\":\"payable\",\"type\":\"fallback\"},{\"inputs\":[{\"internalType\":\"uint256\",\"name\":\"amount\",\"type\":\"uint256\"}],\"name\":\"deposit\",\"outputs\":[],\"stateMutability\":\"payable\",\"type\":\"function\"},{\"inputs\":[{\"internalType\":\"address payable\",\"name\":\"_receiver\",\"type\":\"address\"}],\"name\":\"forwardTo\",\"outputs\":[],\"stateMutability\":\"payable\",\"type\":\"function\"},{\"inputs\":[],\"name\":\"getBalance\",\"outputs\":[{\"internalType\":\"uint256\",\"name\":\"\",\"type\":\"uint256\"},{\"internalType\":\"uint256\",\"name\":\"\",\"type\":\"uint256\"}],\"stateMutability\":\"view\",\"type\":\"function\"},{\"inputs\":[],\"name\":\"widthdrawAll\",\"outputs\":[],\"stateMutability\":\"nonpayable\",\"type\":\"function\"}];\n",
    "var _bin=\"608060405234801561001057600080fd5b50336000806101000a81548173ffffffffffffffffffffffffffffffffffffffff021916908373ffffffffffffffffffffffffffffffffffffffff1602179055506000600181905550610306806100686000396000f3fe6080604052600436106100435760003560e01c806312065fe0146100b157806327d8ad88146100e35780633c45937514610127578063b6b55f251461013e57610044565b5b7fac247564f70be8d5e06a6068acf596e7bbca33994b256697b38d49095d4f38053334604051808373ffffffffffffffffffffffffffffffffffffffff1673ffffffffffffffffffffffffffffffffffffffff1681526020018281526020019250505060405180910390a1005b3480156100bd57600080fd5b506100c661016c565b604051808381526020018281526020019250505060405180910390f35b610125600480360360208110156100f957600080fd5b81019080803573ffffffffffffffffffffffffffffffffffffffff16906020019092919050505061017b565b005b34801561013357600080fd5b5061013c61023d565b005b61016a6004803603602081101561015457600080fd5b81019080803590602001909291905050506102b1565b005b60008060015447915091509091565b346001600082825403925050819055506000809054906101000a900473ffffffffffffffffffffffffffffffffffffffff1673ffffffffffffffffffffffffffffffffffffffff166108fc349081150290604051600060405180830381858888f193505050501580156101f2573d6000803e3d6000fd5b508073ffffffffffffffffffffffffffffffffffffffff166108fc349081150290604051600060405180830381858888f19350505050158015610239573d6000803e3d6000fd5b5050565b6000809054906101000a900473ffffffffffffffffffffffffffffffffffffffff1673ffffffffffffffffffffffffffffffffffffffff166108fc6001549081150290604051600060405180830381858888f193505050501580156102a6573d6000803e3d6000fd5b506000600181905550565b8034146102bd57600080fd5b806001600082825401925050819055505056fea26469706673582212202790db2f0f1c60453ae9e7f7e7d722264b57315068de195f9d0ad0bd2e4bef3a64736f6c63430006040033\"\n",
    "var _contract = new web3.eth.Contract(_abiArray);\n",
    "_contract\n",
    "    .deploy({data:\"0x\"+_bin})\n",
    "    .send({from: \"0x5854A437C9eE1ccED6fa05179D71699A5902F69a\", gas: 800000, gasPrice: '10000000000000'})\n",
    "    .then(function(newContractInstance){\n",
    "        console.log(newContractInstance.options.address) // instance with the new contract address\n",
    "    });"
   ]
  },
  {
   "cell_type": "code",
   "execution_count": 6,
   "id": "98abd78c",
   "metadata": {},
   "outputs": [
    {
     "name": "stdout",
     "output_type": "stream",
     "text": [
      "0x2F5B319719441EC5e3435c3718796b51e308e5cb\n"
     ]
    }
   ],
   "source": [
    "!node src/BankDeploy.js"
   ]
  },
  {
   "cell_type": "markdown",
   "id": "c4624646",
   "metadata": {},
   "source": [
    "## 사용"
   ]
  },
  {
   "cell_type": "code",
   "execution_count": 7,
   "id": "083d7563",
   "metadata": {},
   "outputs": [
    {
     "name": "stdout",
     "output_type": "stream",
     "text": [
      "Overwriting src/BankUse.js\n"
     ]
    }
   ],
   "source": [
    "%%writefile src/BankUse.js\n",
    "var Web3=require('web3');\n",
    "var fs = require('fs');\n",
    "var _abiBinJson = require('./Bank.json');      //importing a javascript file\n",
    "var web3 = new Web3(new Web3.providers.WebsocketProvider(\"ws://localhost:8335\"));\n",
    "contractName=Object.keys(_abiBinJson.contracts); //\n",
    "\n",
    "_abi=_abiBinJson.contracts[contractName].abi; //use just as read from file\n",
    "_abiArray=JSON.parse(JSON.stringify(_abi));\n",
    "_abiArray=JSON.parse(_abi);      //JSON parsing needed!!\n",
    "\n",
    "\n",
    "async function doIt() {\n",
    "    var myBank = new web3.eth.Contract(_abiArray, '0x2F5B319719441EC5e3435c3718796b51e308e5cb');\n",
    "    var event = myBank.events.PrintLog({fromBlock: 0}, function (error, result) {\n",
    "        if (!error) {\n",
    "            log = JSON.stringify(result.returnValues);\n",
    "            console.log(\"Event fired: \" + log);\n",
    "        }\n",
    "    });\n",
    "    const accounts = await web3.eth.getAccounts();\n",
    "    await myBank.methods.deposit(11111).send({from:accounts[0] , gas:259210, value: 11111});\n",
    "    await myBank.methods.deposit(222).send({from:accounts[0] , gas:259210, value: 222});;\n",
    "    \n",
    "    // 11333 wei 출력\n",
    "    const balanceJson = await myBank.methods.getBalance().call();\n",
    "    balance = JSON.stringify(balanceJson);\n",
    "    console.log(\"Balance: \" + balance);\n",
    "    //console.log(\"bankBalance: \"+ bankBalance)\n",
    "    \n",
    "    // 333 wei 이체\n",
    "    await myBank.methods.forwardTo(accounts[1]).send({from: accounts[0] , gas:259210, value: 333});\n",
    "    \n",
    "    //11000 wei 출력\n",
    "    const balanceJson2 = await myBank.methods.getBalance().call();\n",
    "    const balance2 = JSON.stringify(balanceJson2);\n",
    "    console.log(\"Balance: \" + balance2);\n",
    "    \n",
    "    // 333 wei 출력\n",
    "\n",
    "    balance = await web3.eth.getBalance(accounts[1]);\n",
    "    console.log(\"Balance of account[1]: \" + balance);\n",
    "   \n",
    "    // widthdrawall 이전 잔고\n",
    "    balancebefore = await web3.eth.getBalance(accounts[0]);\n",
    "    console.log(\"Balance before withdrawal: \" + balancebefore);\n",
    "    console.log(\"widthdrawing....\");\n",
    "    await myBank.methods.widthdrawAll().send({from:accounts[0]});\n",
    "  \n",
    "    // withdrawall 이후 잔고\n",
    "    balanceafter = await web3.eth.getBalance(accounts[0]);\n",
    "    subtract = balanceafter-balancebefore;\n",
    "    console.log(\"Balance after withdrawal: \" + balanceafter);\n",
    "    console.log(\"BalanceAfter - BalanceBefore: \"+ subtract);\n",
    "    \n",
    "    //fallback 함수 호출\n",
    "    \n",
    "    await web3.eth.sendTransaction({from:accounts[0], to:\"0x2F5B319719441EC5e3435c3718796b51e308e5cb\", gas: 230000, value: 111});\n",
    "    const balanceJson3 = await myBank.methods.getBalance().call();\n",
    "    const balance3 = JSON.stringify(balanceJson3);\n",
    "    console.log(\"Balance: \" + balance3);\n",
    "    process.exit(1); //force exit to disconnect websocket\n",
    "}\n",
    "\n",
    "doIt()"
   ]
  },
  {
   "cell_type": "code",
   "execution_count": 8,
   "id": "0ec1e63d",
   "metadata": {
    "scrolled": true
   },
   "outputs": [
    {
     "name": "stdout",
     "output_type": "stream",
     "text": [
      "Balance: {\"0\":\"11333\",\"1\":\"11333\"}\n",
      "Balance: {\"0\":\"11000\",\"1\":\"11000\"}\n",
      "Balance of account[1]: 1000000000000000000333\n",
      "Balance before withdrawal: 997540749515999988667\n",
      "widthdrawing....\n",
      "Balance after withdrawal: 997540688547999999667\n",
      "BalanceAfter - BalanceBefore: -60967999897600\n",
      "Event fired: {\"0\":\"0x5854A437C9eE1ccED6fa05179D71699A5902F69a\",\"1\":\"111\",\"from\":\"0x5854A437C9eE1ccED6fa05179D71699A5902F69a\",\"amount\":\"111\"}\n",
      "Balance: {\"0\":\"0\",\"1\":\"111\"}\n"
     ]
    }
   ],
   "source": [
    "!node src/BankUse.js"
   ]
  },
  {
   "cell_type": "code",
   "execution_count": null,
   "id": "166781c9",
   "metadata": {},
   "outputs": [],
   "source": []
  }
 ],
 "metadata": {
  "kernelspec": {
   "display_name": "Python 3 (ipykernel)",
   "language": "python",
   "name": "python3"
  },
  "language_info": {
   "codemirror_mode": {
    "name": "ipython",
    "version": 3
   },
   "file_extension": ".py",
   "mimetype": "text/x-python",
   "name": "python",
   "nbconvert_exporter": "python",
   "pygments_lexer": "ipython3",
   "version": "3.10.2"
  }
 },
 "nbformat": 4,
 "nbformat_minor": 5
}
