{
 "cells": [
  {
   "cell_type": "markdown",
   "id": "708f6b78",
   "metadata": {},
   "source": [
    "## 연습문제 1\n",
    "\n",
    "다음 2건의 데이터에 대해 Merkle Root 값을 계산하고 출력하세요.\n",
    "\n",
    "* txA = 'Hello'\n",
    "\n",
    "* txB = 'How are you?'"
   ]
  },
  {
   "cell_type": "code",
   "execution_count": 5,
   "id": "305ff864",
   "metadata": {},
   "outputs": [],
   "source": [
    "import hashlib\n",
    "\n",
    "tx_hA = \"Hello\"\n",
    "tx_hB = 'How are you?'"
   ]
  },
  {
   "cell_type": "code",
   "execution_count": 6,
   "id": "4ffba011",
   "metadata": {},
   "outputs": [],
   "source": [
    "#해싱, 재해싱\n",
    "_hashA=hashlib.sha256(hashlib.sha256(tx_hA.encode()).digest()).hexdigest()\n",
    "_hashB=hashlib.sha256(hashlib.sha256(tx_hB.encode()).digest()).hexdigest()"
   ]
  },
  {
   "cell_type": "code",
   "execution_count": 7,
   "id": "8d3e3de3",
   "metadata": {},
   "outputs": [
    {
     "name": "stdout",
     "output_type": "stream",
     "text": [
      "70bc18bef5ae66b72d1995f8db90a583a60d77b4066e4653f1cead613025861c\n",
      "70 bc 18 be f5 ae 66 b7 2d 19 95 f8 db 90 a5 83 a6 0d 77 b4 06 6e 46 53 f1 ce ad 61 30 25 86 1c hashAswap:  1c86253061adcef153466e06b4770da683a590dbf895192db766aef5be18bc70 \n",
      "hashBswap:  d0e7719d7633fb945d596090dfa31a95ae81b18d90352d63fc49af7f35ce2710\n"
     ]
    }
   ],
   "source": [
    "#바이트 교환\n",
    "print(_hashA)\n",
    "for i in range(0, hashlib.sha256(tx_hA.encode()).digest_size*2, 2):\n",
    "    print(_hashA[i:i+2], end=\" \")\n",
    "hashlib.sha256(tx_hA.encode()).digest_size\n",
    "\"\".join(reversed([_hashA[i:i+2] for i in range(0, hashlib.sha256(tx_hA.encode()).digest_size*2, 2)]))\n",
    "hashAswap=\"\".join(reversed([_hashA[i:i+2] for i in range(0, hashlib.sha256(tx_hA.encode()).digest_size*2, 2)]))\n",
    "hashBswap=\"\".join(reversed([_hashB[i:i+2] for i in range(0, hashlib.sha256(tx_hB.encode()).digest_size*2, 2)]))\n",
    "print(\"hashAswap: \", hashAswap, \"\\nhashBswap: \",hashBswap)"
   ]
  },
  {
   "cell_type": "code",
   "execution_count": 10,
   "id": "41f0072b",
   "metadata": {},
   "outputs": [],
   "source": [
    "#해시 결합, 더블 해싱, 바이트 교환\n",
    "hash_hAB=hashAswap+hashBswap\n",
    "hashlib.sha256(hashlib.sha256(hash_hAB.encode()).digest()).hexdigest()\n",
    "_hash_hAB=hashlib.sha256(hashlib.sha256(hashAB.encode()).digest()).hexdigest()\n",
    "\"\".join(reversed([_hash_hAB[i:i+2] for i in range(0, 32*2, 2)]))\n",
    "hashABswap=\"\".join(reversed([_hash_hAB[i:i+2] for i in range(0, 32*2, 2)]))"
   ]
  },
  {
   "cell_type": "markdown",
   "id": "06af401a",
   "metadata": {},
   "source": [
    "## 연습문제 2\n",
    "\n",
    "친구에게  주소를 구하고, 그 주소로 송금해 보자. 송금이 되지 않으면 왜 안되는지 이유를 알아보자.\n",
    "\n",
    "안되면 친구의 주소를 만들고 전송한다.\n",
    "\n",
    "잔고의 증가분을 출력하세요.\n",
    "\n",
    "소요된 gas비용 출력하세요."
   ]
  },
  {
   "cell_type": "code",
   "execution_count": 15,
   "id": "96f24596",
   "metadata": {},
   "outputs": [
    {
     "name": "stdout",
     "output_type": "stream",
     "text": [
      "[\"0x6811ba5d2ebf9a4500f3d4e9bf1d98ea0d2bb6cb\", \"0xe03bca5e9d19fd12d5a5ab3bcc5cc2cfc54dc42a\"]\n"
     ]
    }
   ],
   "source": [
    "#계정 출력\n",
    "!geth --exec \"eth.accounts\" attach http://localhost:8445"
   ]
  },
  {
   "cell_type": "code",
   "execution_count": 18,
   "id": "30f4c43c",
   "metadata": {},
   "outputs": [
    {
     "name": "stdout",
     "output_type": "stream",
     "text": [
      "\"0x6811ba5d2ebf9a4500f3d4e9bf1d98ea0d2bb6cb\"\n"
     ]
    }
   ],
   "source": [
    "#내 계정 출력\n",
    "!geth --exec \"eth.accounts[0]\" attach http://localhost:8445"
   ]
  },
  {
   "cell_type": "code",
   "execution_count": 19,
   "id": "a53c0a99",
   "metadata": {},
   "outputs": [
    {
     "name": "stdout",
     "output_type": "stream",
     "text": [
      "\"0xe03bca5e9d19fd12d5a5ab3bcc5cc2cfc54dc42a\"\n"
     ]
    }
   ],
   "source": [
    "#친구 계정 출력\n",
    "!geth --exec \"eth.accounts[1]\" attach http://localhost:8445"
   ]
  },
  {
   "cell_type": "code",
   "execution_count": 20,
   "id": "0c9c525f",
   "metadata": {},
   "outputs": [
    {
     "name": "stdout",
     "output_type": "stream",
     "text": [
      "5.2771875e+21\n"
     ]
    }
   ],
   "source": [
    "#현재 친구 잔고\n",
    "!geth --exec \"eth.getBalance(eth.accounts[1])\" attach http://localhost:8445"
   ]
  },
  {
   "cell_type": "code",
   "execution_count": 13,
   "id": "ad2a25ad",
   "metadata": {},
   "outputs": [
    {
     "name": "stdout",
     "output_type": "stream",
     "text": [
      "Overwriting src/e_testTran.js\n"
     ]
    }
   ],
   "source": [
    "%%writefile src/e_testTran.js\n",
    "miner.setEtherbase(eth.accounts[0]);\n",
    "console.log('coinbase: ', eth.coinbase);\n",
    "var bal1=eth.getBalance(eth.coinbase);\n",
    "var bal2=eth.getBalance(eth.accounts[1]);\n",
    "console.log('sender balance in ether: ', web3.fromWei(bal1,\"ether\"));\n",
    "console.log('receiver balance in ether: ', web3.fromWei(bal2,\"ether\"));\n",
    "console.log('median gas price: ', eth.gasPrice);\n",
    "console.log('block number: ', eth.blockNumber);\n",
    "console.log('transaction count: ', eth.getTransactionCount(eth.coinbase));\n",
    "var t = eth.sendTransaction({from:eth.accounts[0], to:eth.accounts[1],value:50000});\n",
    "console.log('...mining start');\n",
    "miner.start(1);admin.sleepBlocks(1);miner.stop();\n",
    "console.log('mining done...');\n",
    "var bal1new=eth.getBalance(eth.coinbase);\n",
    "var bal2new=eth.getBalance(eth.accounts[1]);\n",
    "console.log('- new sender balance in ether: ', web3.fromWei(bal1new,\"ether\"));\n",
    "console.log('- new receiver balance in ether: ', web3.fromWei(bal2new,\"ether\"));\n",
    "console.log('- block number: ', eth.blockNumber);\n",
    "console.log('- transaction count: ', eth.getTransactionCount(eth.coinbase));\n",
    "console.log('gasUsed : ', eth.getTransactionReceipt(t).gasUsed);"
   ]
  },
  {
   "cell_type": "code",
   "execution_count": 14,
   "id": "165331f1",
   "metadata": {
    "scrolled": false
   },
   "outputs": [
    {
     "name": "stdout",
     "output_type": "stream",
     "text": [
      "coinbase:  0x6811ba5d2ebf9a4500f3d4e9bf1d98ea0d2bb6cb\n",
      "sender balance in ether:  9349.99999999999987\n",
      "receiver balance in ether:  5277.18750000000013\n",
      "median gas price:  1000000000\n",
      "block number:  3029\n",
      "transaction count:  9\n",
      "...mining start\n",
      "mining done...\n",
      "- new sender balance in ether:  9354.99999999999967\n",
      "- new receiver balance in ether:  5277.18750000000033\n",
      "- block number:  3030\n",
      "- transaction count:  13\n",
      "gasUsed :  21000\n",
      "null\n"
     ]
    }
   ],
   "source": [
    "!geth --exec \"loadScript('src/e_testTran.js')\" attach http://localhost:8445"
   ]
  },
  {
   "cell_type": "code",
   "execution_count": 15,
   "id": "9d3a7348",
   "metadata": {},
   "outputs": [
    {
     "name": "stdout",
     "output_type": "stream",
     "text": [
      "5.27718750000000033e+21\n"
     ]
    }
   ],
   "source": [
    "#친구 계정의 변화\n",
    "!geth --exec \"eth.getBalance(eth.accounts[1])\" attach http://localhost:8445"
   ]
  },
  {
   "cell_type": "markdown",
   "id": "505f4ba6",
   "metadata": {},
   "source": [
    "## 연습문제 3\n",
    "\n",
    "블록헤더 데이터의 해시 값에 NONCE를 증가시키면서\n",
    "\n",
    "앞 자리의 0의 개수를 맞출 때까지 반복한다.\n",
    "\n",
    "(1) 찾고자 하는 해시가 ```0000```로 시작한다고 하자. 몇 회만에 찾는지 출력하세요.\n",
    "\n",
    "(2) 찾고자 하는 해시가 ```00000```로 시작한다고 하자. 몇 회만에 찾는지 출력하세요.\n",
    "\n",
    "(3) 찾고자 하는 해시가 ```000000```로 시작한다고 하자. 몇 회만에 찾는지 출력하세요."
   ]
  },
  {
   "cell_type": "code",
   "execution_count": 11,
   "id": "68e6829f",
   "metadata": {},
   "outputs": [
    {
     "name": "stdout",
     "output_type": "stream",
     "text": [
      "Solved  NONCE:  94280 guessHash:  000043ce4a61d02bff0e68ba18a7daf448cb3b93691fdd4850f6cd3f85b7a13f\n"
     ]
    }
   ],
   "source": [
    "#1번\n",
    "import hashlib\n",
    "ntry=1\n",
    "found=False\n",
    "blockNumber=54 # hex\n",
    "NONCE=0\n",
    "data='Hello'\n",
    "previousHash='5d7c7ba21cbbcd75d14800b100252d5b428e5b1213d27c385bc141ca6b47989e'\n",
    "while found==False:\n",
    "    z=str(blockNumber)+str(NONCE)+data+previousHash\n",
    "    guessHash=hashlib.sha256(z.encode('utf-8')).hexdigest()\n",
    "    if guessHash[:4]=='0000':\n",
    "        found=True\n",
    "    NONCE+=1\n",
    "    if(NONCE%10000000==0):   #print guessHash every 10000000\n",
    "        print(\"NONCE: \",NONCE, guessHash)\n",
    "print(\"Solved \", \"NONCE: \", NONCE, \"guessHash: \", guessHash)"
   ]
  },
  {
   "cell_type": "code",
   "execution_count": 12,
   "id": "ac36d01b",
   "metadata": {},
   "outputs": [
    {
     "name": "stdout",
     "output_type": "stream",
     "text": [
      "Solved  NONCE:  315753 guessHash:  000007f9f69a43f1bb6ab92672d873b93d6bafaa2007e44b6151bd19efadf4d1\n"
     ]
    }
   ],
   "source": [
    "#2번\n",
    "import hashlib\n",
    "ntry=1\n",
    "found=False\n",
    "blockNumber=54 # hex\n",
    "NONCE=0\n",
    "data='Hello'\n",
    "previousHash='5d7c7ba21cbbcd75d14800b100252d5b428e5b1213d27c385bc141ca6b47989e'\n",
    "while found==False:\n",
    "    z=str(blockNumber)+str(NONCE)+data+previousHash\n",
    "    guessHash=hashlib.sha256(z.encode('utf-8')).hexdigest()\n",
    "    if guessHash[:5]=='00000':\n",
    "        found=True\n",
    "    NONCE+=1\n",
    "    if(NONCE%10000000==0):   #print guessHash every 10000000\n",
    "        print(\"NONCE: \",NONCE, guessHash)\n",
    "print(\"Solved \", \"NONCE: \", NONCE, \"guessHash: \", guessHash)"
   ]
  },
  {
   "cell_type": "code",
   "execution_count": 13,
   "id": "61d9627e",
   "metadata": {
    "scrolled": true
   },
   "outputs": [
    {
     "name": "stdout",
     "output_type": "stream",
     "text": [
      "NONCE:  10000000 660b9e057377381579f5c54347901cf462fce656c069a4d0f26bdd4cf1e05e66\n",
      "NONCE:  20000000 c31d3ddd7bb92312bcc2a88263d92e94c6d17a641ac9e59ac262c775c7f58925\n",
      "NONCE:  30000000 236077716f4ce428ec83f12bf74fb7ab76450bad60bc3f21d924e200c39a9fa4\n",
      "NONCE:  40000000 5b07929bd7088f11d6caf0e65a6f44ab3b7f82d32900430cc7c7244b2917e04d\n",
      "Solved  NONCE:  45576417 guessHash:  0000003d02b95604bb1ec436ff20e08168dd339f2ec0f9941bfc58bad039994e\n"
     ]
    }
   ],
   "source": [
    "#3번\n",
    "import hashlib\n",
    "ntry=1\n",
    "found=False\n",
    "blockNumber=54 # hex\n",
    "NONCE=0\n",
    "data='Hello'\n",
    "previousHash='5d7c7ba21cbbcd75d14800b100252d5b428e5b1213d27c385bc141ca6b47989e'\n",
    "while found==False:\n",
    "    z=str(blockNumber)+str(NONCE)+data+previousHash\n",
    "    guessHash=hashlib.sha256(z.encode('utf-8')).hexdigest()\n",
    "    if guessHash[:6]=='000000':\n",
    "        found=True\n",
    "    NONCE+=1\n",
    "    if(NONCE%10000000==0):   #print guessHash every 10000000\n",
    "        print(\"NONCE: \",NONCE, guessHash)\n",
    "print(\"Solved \", \"NONCE: \", NONCE, \"guessHash: \", guessHash)"
   ]
  },
  {
   "cell_type": "markdown",
   "id": "91e3ecef",
   "metadata": {},
   "source": [
    "# 결론\n",
    "난이도는 세번째가 가장 높았다. 따라서 NONCE의 값이 높을수록 난이도가 높다."
   ]
  },
  {
   "cell_type": "code",
   "execution_count": null,
   "id": "e8502b4b",
   "metadata": {},
   "outputs": [],
   "source": []
  }
 ],
 "metadata": {
  "kernelspec": {
   "display_name": "Python 3 (ipykernel)",
   "language": "python",
   "name": "python3"
  },
  "language_info": {
   "codemirror_mode": {
    "name": "ipython",
    "version": 3
   },
   "file_extension": ".py",
   "mimetype": "text/x-python",
   "name": "python",
   "nbconvert_exporter": "python",
   "pygments_lexer": "ipython3",
   "version": "3.10.2"
  }
 },
 "nbformat": 4,
 "nbformat_minor": 5
}
