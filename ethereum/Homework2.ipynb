{
 "cells": [
  {
   "cell_type": "markdown",
   "id": "5df8b09e",
   "metadata": {},
   "source": [
    "# 문제 1\n",
    "* 1-1: ganache를 백그라운드로 띄우고, node에서 연결하여, coinbase주소를 출력하세요.\n",
    "\n",
    "* 1-2: 문제1-1을 geth를 띄우고 실행해보세요. geth에서의 coinbase를 출력하세요.\n",
    "\n",
    "* 1-3: ganache의 coinbase에서 geth의 coinbase로 1 ether를 송금해 보세요. 송금 성공이면 잔고변화를 출력하고, 실패이면 그 이유를 간단히 설명하세요."
   ]
  },
  {
   "cell_type": "markdown",
   "id": "b9c5de0b",
   "metadata": {},
   "source": [
    "## 1-1. ganache를 백그라운드로 띄우고, node에서 연결하여, coinbase주소를 출력하세요."
   ]
  },
  {
   "cell_type": "markdown",
   "id": "1904265e",
   "metadata": {},
   "source": [
    "### ganache 실행"
   ]
  },
  {
   "cell_type": "code",
   "execution_count": 10,
   "id": "7369ce3b",
   "metadata": {},
   "outputs": [
    {
     "name": "stdout",
     "output_type": "stream",
     "text": [
      " C 드라이브의 볼륨에는 이름이 없습니다.\n",
      " 볼륨 일련 번호: CC05-E6C0\n",
      "\n",
      " C:\\Users\\rhfog\\Code\\Block\\myproject 디렉터리\n",
      "\n",
      "2022-04-07  오후 01:27    <DIR>          .\n",
      "2022-04-07  오후 01:27    <DIR>          ..\n",
      "2022-04-07  오후 01:07    <DIR>          .ipynb_checkpoints\n",
      "2022-03-15  오후 05:29    <DIR>          eth\n",
      "2022-04-01  오후 07:49            12,502 Homework1.ipynb\n",
      "2022-04-04  오후 04:14    <DIR>          node_modules\n",
      "2022-04-04  오후 04:17           269,311 package-lock.json\n",
      "2022-04-04  오후 04:17                74 package.json\n",
      "2022-03-13  오후 11:54    <DIR>          scripts\n",
      "2022-04-04  오후 05:46    <DIR>          src\n",
      "2022-04-01  오후 04:54            12,848 Untitled.ipynb\n",
      "2022-04-04  오후 04:25             1,109 Untitled1.ipynb\n",
      "2022-04-07  오후 01:27             3,364 Untitled2.ipynb\n",
      "2022-04-07  오후 01:26                75 _ganacheNow.bat\n",
      "2022-03-15  오후 04:53               497 _genesis.json\n",
      "2022-03-15  오후 05:28               238 _gethNow.bat\n",
      "2022-03-15  오후 05:06                39 _geth_genesis.bat\n",
      "2022-03-21  오후 09:56               543 _geth_project1.bat\n",
      "2022-03-15  오후 04:15               127 _geth_testnet.bat\n",
      "2022-04-04  오후 05:46             5,290 수업자료.ipynb\n",
      "              13개 파일             306,017 바이트\n",
      "               7개 디렉터리  14,614,564,864 바이트 남음\n"
     ]
    }
   ],
   "source": [
    "!dir C:\\Users\\rhfog\\Code\\Block\\myproject"
   ]
  },
  {
   "cell_type": "code",
   "execution_count": 1,
   "id": "d4846eb5",
   "metadata": {
    "scrolled": true
   },
   "outputs": [
    {
     "name": "stdout",
     "output_type": "stream",
     "text": [
      "node_modules\\.bin\\ganache-cli --unlock 0 --host \"localhost\" --port \"8345\"\n"
     ]
    }
   ],
   "source": [
    "!type _ganacheNow.bat"
   ]
  },
  {
   "cell_type": "markdown",
   "id": "362d124a",
   "metadata": {},
   "source": [
    "### 계좌조회"
   ]
  },
  {
   "cell_type": "code",
   "execution_count": 26,
   "id": "d5857cf7",
   "metadata": {
    "scrolled": false
   },
   "outputs": [
    {
     "name": "stdout",
     "output_type": "stream",
     "text": [
      "(2) accounts from array: undefined\n",
      "(1) accounts: 0x9254f74dc16F5d059806e35796B992aF2Ab10ae5,0x19F8d889A63434821268e47848aaE66d1d7C0BeB,0x3C7bb7b6C700A2BBA4c30BDff0dF1f474a3BC5c7,0x631977b8b13D938266BF6f3A337048FD2806A392,0x2A5727da603b158B1A5107f57fc1498794eb0137,0xC88abb7b7Bd4dD1a250dad38711eEef5a51feAD4,0xa67301Bc771Fd6c5f7Be187b870e9e97B3a51A0e,0x5F7DcdB4eDe5063f4E538ce27f33c76ea755c8b1,0xEFd046564F50A0524254CB494cf355D7ed40873B,0xa5860cABae29D4FBA41E08f4375045692A161b3D\n"
     ]
    }
   ],
   "source": [
    "!node src\\web3accounts.js"
   ]
  },
  {
   "cell_type": "code",
   "execution_count": 1,
   "id": "35ca6301",
   "metadata": {},
   "outputs": [
    {
     "name": "stdout",
     "output_type": "stream",
     "text": [
      "Overwriting src/web3test.js\n"
     ]
    }
   ],
   "source": [
    "%%writefile src/web3test.js\n",
    "var Web3 = require('web3');\n",
    "var web3 = new Web3(new Web3.providers.HttpProvider('http://localhost:8345'));\n",
    "var my=web3.eth.getAccounts().then(it => { console.log(it[0]); });\n",
    "my=[]"
   ]
  },
  {
   "cell_type": "code",
   "execution_count": 2,
   "id": "86573d60",
   "metadata": {},
   "outputs": [
    {
     "name": "stdout",
     "output_type": "stream",
     "text": [
      "0xa410B51ae28545351697E7A28Ff596D49588ab70\n"
     ]
    }
   ],
   "source": [
    "!node src/web3test.js"
   ]
  },
  {
   "cell_type": "markdown",
   "id": "11fe195c",
   "metadata": {},
   "source": [
    "###### 이게 진짜 coinbase인것 같다"
   ]
  },
  {
   "cell_type": "markdown",
   "id": "c6cafda3",
   "metadata": {},
   "source": [
    "## 1-2. 문제1-1을 geth를 띄우고 실행해보세요. geth에서의 coinbase를 출력하세요."
   ]
  },
  {
   "cell_type": "code",
   "execution_count": 1,
   "id": "30acf579",
   "metadata": {},
   "outputs": [
    {
     "name": "stdout",
     "output_type": "stream",
     "text": [
      "[\"0x6811ba5d2ebf9a4500f3d4e9bf1d98ea0d2bb6cb\", \"0xe03bca5e9d19fd12d5a5ab3bcc5cc2cfc54dc42a\"]\n"
     ]
    }
   ],
   "source": [
    "# 계정출력\n",
    "!geth --exec \"eth.accounts\" attach http://localhost:8445"
   ]
  },
  {
   "cell_type": "code",
   "execution_count": 2,
   "id": "a41e489a",
   "metadata": {},
   "outputs": [
    {
     "name": "stdout",
     "output_type": "stream",
     "text": [
      "\"0x6811ba5d2ebf9a4500f3d4e9bf1d98ea0d2bb6cb\"\n"
     ]
    }
   ],
   "source": [
    "# coinbase 출력\n",
    "!geth --exec \"eth.coinbase\" attach http://localhost:8445"
   ]
  },
  {
   "cell_type": "markdown",
   "id": "eaf3284b",
   "metadata": {},
   "source": [
    "## 1-3. ganache의 coinbase에서 geth의 coinbase로 1 ether를 송금해 보세요. 송금 성공이면 잔고변화를 출력하고, 실패이면 그 이유를 간단히 설명하세요."
   ]
  },
  {
   "cell_type": "markdown",
   "id": "df46fe70",
   "metadata": {},
   "source": [
    "### ganache coinbase 출력"
   ]
  },
  {
   "cell_type": "code",
   "execution_count": 4,
   "id": "ad839da6",
   "metadata": {},
   "outputs": [
    {
     "name": "stdout",
     "output_type": "stream",
     "text": [
      "Writing src/enode_check.js\n"
     ]
    }
   ],
   "source": [
    "%%writefile src/enode_check.js\n",
    "console.log(admin.nodeInfo.enode);"
   ]
  },
  {
   "cell_type": "code",
   "execution_count": 5,
   "id": "375fffda",
   "metadata": {},
   "outputs": [
    {
     "name": "stdout",
     "output_type": "stream",
     "text": [
      "enode://eb808ee1d8face03f3b0c0104adbfc66966219c5f2945cecb6334067be41ddba1c36c59e2e34372f0893192b5bf0e2d8f7fee13f363367c6f8a7b8c456512888@203.237.172.100:38445\n",
      "null\n"
     ]
    }
   ],
   "source": [
    "!geth --exec \"loadScript('src/enode_check.js')\" attach http://localhost:8445"
   ]
  },
  {
   "cell_type": "code",
   "execution_count": 6,
   "id": "16ff00a9",
   "metadata": {},
   "outputs": [
    {
     "name": "stdout",
     "output_type": "stream",
     "text": [
      "Writing src/addpeer.js\n"
     ]
    }
   ],
   "source": [
    "%%writefile src/addpeer.js\n",
    "admin.addPeer(\"enode://eb808ee1d8face03f3b0c0104adbfc66966219c5f2945cecb6334067be41ddba1c36c59e2e34372f0893192b5bf0e2d8f7fee13f363367c6f8a7b8c456512888@203.237.172.100:38445)"
   ]
  },
  {
   "cell_type": "code",
   "execution_count": 7,
   "id": "d9f90944",
   "metadata": {},
   "outputs": [
    {
     "name": "stdout",
     "output_type": "stream",
     "text": [
      "GoError: Error while compiling or running script: SyntaxError: src\\addpeer.js: Line 1:15 Unexpected token ILLEGAL (and 1 more errors)\n",
      "\tat github.com/ethereum/go-ethereum/internal/jsre.MakeCallback.func1 (native)\n",
      "\tat <eval>:1:12(1)\n",
      "\n"
     ]
    }
   ],
   "source": [
    "!geth --exec \"loadScript('src/addpeer.js')\" attach http://localhost:8345"
   ]
  },
  {
   "cell_type": "markdown",
   "id": "7e958de8",
   "metadata": {},
   "source": [
    "#### 에러가 난다..일단 진행해보겠습니다."
   ]
  },
  {
   "cell_type": "code",
   "execution_count": 8,
   "id": "0b085388",
   "metadata": {},
   "outputs": [
    {
     "name": "stdout",
     "output_type": "stream",
     "text": [
      "Writing src/balans_check.js\n"
     ]
    }
   ],
   "source": [
    "%%writefile src/balans_check.js\n",
    "console.log(eth.getBalance(eth.coinbase));"
   ]
  },
  {
   "cell_type": "code",
   "execution_count": 9,
   "id": "ea5e5db4",
   "metadata": {},
   "outputs": [
    {
     "name": "stdout",
     "output_type": "stream",
     "text": [
      "0\n",
      "null\n"
     ]
    }
   ],
   "source": [
    "!geth --exec \"loadScript('src/balans_check.js')\" attach http://localhost:8345"
   ]
  },
  {
   "cell_type": "markdown",
   "id": "c125b3aa",
   "metadata": {},
   "source": [
    "##### 0이나온다. coinbase설정을 다시 해야할것 같다.."
   ]
  },
  {
   "cell_type": "code",
   "execution_count": 10,
   "id": "f9144f69",
   "metadata": {},
   "outputs": [
    {
     "name": "stdout",
     "output_type": "stream",
     "text": [
      "9.35499999999999967e+21\n",
      "null\n"
     ]
    }
   ],
   "source": [
    "!geth --exec \"loadScript('src/balans_check.js')\" attach http://localhost:8445"
   ]
  },
  {
   "cell_type": "code",
   "execution_count": 11,
   "id": "6a893210",
   "metadata": {},
   "outputs": [
    {
     "name": "stdout",
     "output_type": "stream",
     "text": [
      "Writing src/geth_address.js\n"
     ]
    }
   ],
   "source": [
    "%%writefile src/geth_address.js\n",
    "console.log(eth.coinbase);"
   ]
  },
  {
   "cell_type": "code",
   "execution_count": 12,
   "id": "fafa6648",
   "metadata": {},
   "outputs": [
    {
     "name": "stdout",
     "output_type": "stream",
     "text": [
      "0x6811ba5d2ebf9a4500f3d4e9bf1d98ea0d2bb6cb\n",
      "null\n"
     ]
    }
   ],
   "source": [
    "!geth --exec \"loadScript('src/geth_address.js')\" attach http://localhost:8445"
   ]
  },
  {
   "cell_type": "code",
   "execution_count": 3,
   "id": "5e6d6ede",
   "metadata": {},
   "outputs": [
    {
     "name": "stdout",
     "output_type": "stream",
     "text": [
      "Overwriting src/transaction_.js\n"
     ]
    }
   ],
   "source": [
    "%%writefile src/transaction_.js\n",
    "eth.sendTransaction({from:\"0xa410B51ae28545351697E7A28Ff596D49588ab70\", to:eth.coinbase, value:web3.toWei(1,\"ether\")})"
   ]
  },
  {
   "cell_type": "code",
   "execution_count": 4,
   "id": "08eae83d",
   "metadata": {},
   "outputs": [
    {
     "name": "stdout",
     "output_type": "stream",
     "text": [
      "\"0xeb544c65e71a36f1ab4cf139c0873b7f6467ff5643778c8ee1101fece8a929bd\"\n"
     ]
    }
   ],
   "source": [
    "!geth --exec \"loadScript('src/transaction_.js')\" attach http://localhost:8345"
   ]
  },
  {
   "cell_type": "code",
   "execution_count": 5,
   "id": "756fd572",
   "metadata": {},
   "outputs": [
    {
     "name": "stdout",
     "output_type": "stream",
     "text": [
      "1000004880859375000\n",
      "null\n"
     ]
    }
   ],
   "source": [
    "!geth --exec \"loadScript('src/balans_check.js')\" attach http://localhost:8345"
   ]
  },
  {
   "cell_type": "code",
   "execution_count": 6,
   "id": "9b8e792f",
   "metadata": {},
   "outputs": [
    {
     "name": "stdout",
     "output_type": "stream",
     "text": [
      "9.35499999999999967e+21\n",
      "null\n"
     ]
    }
   ],
   "source": [
    "!geth --exec \"loadScript('src/balans_check.js')\" attach http://localhost:8445"
   ]
  },
  {
   "cell_type": "markdown",
   "id": "e41199ff",
   "metadata": {},
   "source": [
    "##### geth의 잔고는 변화가 없었다..아마 돈이 중간에 다른데로 빠진것 같다..peer를 추가하지 못해서 그런것 같다.."
   ]
  },
  {
   "cell_type": "markdown",
   "id": "c27b86be",
   "metadata": {},
   "source": [
    "# 문제 2\n",
    "\n",
    "* 2-1: ganache에 연결하고, 현재 coinbase의 잔고를 ether로 출력하세요.\n",
    "\n",
    "* 2-2: 현재 거래소 환전가격을 구해서 한화로 계산하여 얼마인지 출력하세요. 환전가격은 거래소 가격을 읽어서 프로그램에 코딩한다."
   ]
  },
  {
   "cell_type": "markdown",
   "id": "3f73a4ba",
   "metadata": {},
   "source": [
    "## 2-1. ganache에 연결하고, 현재 coinbase의 잔고를 ether로 출력하세요."
   ]
  },
  {
   "cell_type": "code",
   "execution_count": 26,
   "id": "d39a6d3d",
   "metadata": {},
   "outputs": [
    {
     "name": "stdout",
     "output_type": "stream",
     "text": [
      "node_modules\\.bin\\ganache-cli --unlock 0 --host \"localhost\" --port \"8345\"\n"
     ]
    }
   ],
   "source": [
    "!type _ganacheNow.bat"
   ]
  },
  {
   "cell_type": "code",
   "execution_count": 27,
   "id": "82f19e64",
   "metadata": {},
   "outputs": [
    {
     "name": "stdout",
     "output_type": "stream",
     "text": [
      "Writing src/question.js\n"
     ]
    }
   ],
   "source": [
    "%%writefile src/question.js\n",
    "console.log(web3.fromWei(eth.getBalance(eth.coinbase),\"ether\"))\n",
    "var a=web3.fromWei(eth.getBalance(eth.coinbase),\"ether\")"
   ]
  },
  {
   "cell_type": "code",
   "execution_count": 28,
   "id": "f3ccb447",
   "metadata": {},
   "outputs": [
    {
     "name": "stdout",
     "output_type": "stream",
     "text": [
      "0.000004880859375\n",
      "null\n"
     ]
    }
   ],
   "source": [
    "!geth --exec \"loadScript('src/question.js')\" attach http://localhost:8345"
   ]
  },
  {
   "cell_type": "markdown",
   "id": "c383ad4b",
   "metadata": {},
   "source": [
    "## 2-2. 현재 거래소 환전가격을 구해서 한화로 계산하여 얼마인지 출력하세요. 환전가격은 거래소 가격을 읽어서 프로그램에 코딩한다."
   ]
  },
  {
   "cell_type": "code",
   "execution_count": 24,
   "id": "9a8d2beb",
   "metadata": {},
   "outputs": [
    {
     "name": "stdout",
     "output_type": "stream",
     "text": [
      "Overwriting src/question2.js\n"
     ]
    }
   ],
   "source": [
    "%%writefile src/question2.js\n",
    "console.log(web3.fromWei(eth.getBalance(eth.coinbase),\"ether\"))\n",
    "var a=web3.fromWei(eth.getBalance(eth.coinbase),\"ether\")\n",
    "var won=4041147.52*a\n",
    "console.log(won)"
   ]
  },
  {
   "cell_type": "markdown",
   "id": "7878f356",
   "metadata": {},
   "source": [
    "##### 22/4/8 PM 5:28 바이낸스의 가격을 반영하였다.\n",
    "1ether=3,297.55달러=4,041,147.52원"
   ]
  },
  {
   "cell_type": "code",
   "execution_count": 25,
   "id": "7da1a360",
   "metadata": {},
   "outputs": [
    {
     "name": "stdout",
     "output_type": "stream",
     "text": [
      "0.000004880859375\n",
      "19.72427275875\n",
      "null\n"
     ]
    }
   ],
   "source": [
    "!geth --exec \"loadScript('src/question2.js')\" attach http://localhost:8345"
   ]
  },
  {
   "cell_type": "code",
   "execution_count": null,
   "id": "10b43e36",
   "metadata": {},
   "outputs": [],
   "source": []
  }
 ],
 "metadata": {
  "kernelspec": {
   "display_name": "Python 3 (ipykernel)",
   "language": "python",
   "name": "python3"
  },
  "language_info": {
   "codemirror_mode": {
    "name": "ipython",
    "version": 3
   },
   "file_extension": ".py",
   "mimetype": "text/x-python",
   "name": "python",
   "nbconvert_exporter": "python",
   "pygments_lexer": "ipython3",
   "version": "3.10.2"
  }
 },
 "nbformat": 4,
 "nbformat_minor": 5
}
