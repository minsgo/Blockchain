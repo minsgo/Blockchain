{
 "cells": [
  {
   "cell_type": "markdown",
   "id": "bc1b7eb1",
   "metadata": {},
   "source": [
    "# 휴먼지능정보공학과 201810757 김민석"
   ]
  },
  {
   "cell_type": "markdown",
   "id": "e13c3aaa",
   "metadata": {},
   "source": [
    "## 문제 1"
   ]
  },
  {
   "cell_type": "markdown",
   "id": "52229d30",
   "metadata": {},
   "source": [
    "### ganache 8345를 백그라운드로 띄우고, node에서 다음의 실행 결과를 출력하세요.\n",
    "\n",
    "* (1) 주소0, 주소1 출력\n",
    "\n",
    "* (2) 주소0, 주소1의 잔고 출력\n",
    "\n",
    "* (3) 주소1에서 주소2로 1111 wei 전송 (callback 함수에서 전송메시지 출력) \n",
    "\n",
    "* (4) 해시 출력 ((3)의 callback으로 출력하지 말고, 전송 완료 후 출력)\n",
    "\n",
    "* (5) 개스와 개스가격을 곱해서 출력\n",
    "\n",
    "* (6) nonce 출력\n",
    "\n",
    "* (7) 주소0과 주소1의 잔고 변화 출력 ((2)로부터 증감이 얼마나 되었는지)\n",
    "\n",
    "* (8) 잔고의 합계를 더하는 과정 출력\n",
    "\n",
    "* (9) 잔고의 합계 출력"
   ]
  },
  {
   "cell_type": "markdown",
   "id": "924a4760",
   "metadata": {},
   "source": [
    "#### 1. 주소0, 주소1 출력"
   ]
  },
  {
   "cell_type": "markdown",
   "id": "fdb5462c",
   "metadata": {},
   "source": [
    "##### ganache가 이미 열려있어서 바로 진행했습니다."
   ]
  },
  {
   "cell_type": "code",
   "execution_count": 5,
   "id": "53bcd2c5",
   "metadata": {},
   "outputs": [
    {
     "name": "stdout",
     "output_type": "stream",
     "text": [
      "Overwriting src/getMyAddr.js\n"
     ]
    }
   ],
   "source": [
    "%%writefile src/getMyAddr.js\n",
    "var Web3=require('web3');\n",
    "var web3 = new Web3(new Web3.providers.HttpProvider(\"http://localhost:8345\"))\n",
    "var myAddr0;\n",
    "web3.eth.getAccounts().then(console.log);"
   ]
  },
  {
   "cell_type": "code",
   "execution_count": 6,
   "id": "0cddae00",
   "metadata": {},
   "outputs": [
    {
     "name": "stdout",
     "output_type": "stream",
     "text": [
      "[\n",
      "  '0x3D5fF9C06e49550eC05a3e07CD487e4adcb0b359',\n",
      "  '0x0CE4109a0FC594eE9A283895e3Eb197775f83860',\n",
      "  '0xa8408E006b1Ac96a03F5D7d5F927196fD38E97dC',\n",
      "  '0xc34861633A721C163db22E5Acf4FfFB6731A43f6',\n",
      "  '0x36C51273f0c79EF0707a789A47D23F80db9121A5',\n",
      "  '0x5d3b1Eca43185aBCf8255F6455510255D49c1586',\n",
      "  '0x685cA28Aa4f44595b73f3635DE5b5BEf437F1d09',\n",
      "  '0xc42983e5Ee322245E14Bf31340Ae580A850194f4',\n",
      "  '0x0331fA6DDA9Ff56dACD27606E3801d22B3Fd297D',\n",
      "  '0x152212e0A22542d9a592Fba6345dD633b5102928'\n",
      "]\n"
     ]
    }
   ],
   "source": [
    "!node src/getMyAddr.js"
   ]
  },
  {
   "cell_type": "code",
   "execution_count": 39,
   "id": "f4a09a22",
   "metadata": {},
   "outputs": [
    {
     "name": "stdout",
     "output_type": "stream",
     "text": [
      "Overwriting src/web3test1.js\n"
     ]
    }
   ],
   "source": [
    "%%writefile src/web3test1.js\n",
    "var Web3 = require('web3');\n",
    "var web3 = new Web3(new Web3.providers.HttpProvider('http://localhost:8345'));\n",
    "console.log(\"(1) ac0 :\");\n",
    "var my2=web3.eth.getAccounts().then(it => { console.log(it[1]); });\n",
    "console.log(\"ac1 :\");\n",
    "var my1=web3.eth.getAccounts().then(it => { console.log(it[0]); });\n",
    "my1=[]\n",
    "my2=[]"
   ]
  },
  {
   "cell_type": "markdown",
   "id": "8ab0ef18",
   "metadata": {},
   "source": [
    "##### 문제 1번 답"
   ]
  },
  {
   "cell_type": "code",
   "execution_count": 40,
   "id": "a5d9e025",
   "metadata": {},
   "outputs": [
    {
     "name": "stdout",
     "output_type": "stream",
     "text": [
      "(1) ac0 :\n",
      "ac1 :\n",
      "0x3D5fF9C06e49550eC05a3e07CD487e4adcb0b359\n",
      "0x0CE4109a0FC594eE9A283895e3Eb197775f83860\n"
     ]
    }
   ],
   "source": [
    "!node src/web3test1.js"
   ]
  },
  {
   "cell_type": "markdown",
   "id": "a933aa75",
   "metadata": {},
   "source": [
    "#### 2. 주소0, 주소1의 잔고 출력"
   ]
  },
  {
   "cell_type": "code",
   "execution_count": 29,
   "id": "c2a70672",
   "metadata": {
    "scrolled": true
   },
   "outputs": [
    {
     "name": "stdout",
     "output_type": "stream",
     "text": [
      "Overwriting src/midtest.js\n"
     ]
    }
   ],
   "source": [
    "%%writefile src/midtest.js\n",
    "console.log(\"(1) ac0 :\");\n",
    "console.log(web3.fromWei(eth.getBalance(eth.accounts[0])))\n",
    "var a=web3.fromWei(eth.getBalance(eth.accounts[0]))\n",
    "console.log(\"ac1 :\");\n",
    "console.log(web3.fromWei(eth.getBalance(eth.accounts[1])))\n",
    "var b=web3.fromWei(eth.getBalance(eth.accounts[1]))"
   ]
  },
  {
   "cell_type": "markdown",
   "id": "91a15a8c",
   "metadata": {},
   "source": [
    "##### 문제 2번 답"
   ]
  },
  {
   "cell_type": "code",
   "execution_count": 30,
   "id": "0d4b438c",
   "metadata": {},
   "outputs": [
    {
     "name": "stdout",
     "output_type": "stream",
     "text": [
      "(1) ac0 :\n",
      "999.998739554\n",
      "ac1 :\n",
      "1000\n",
      "null\n"
     ]
    }
   ],
   "source": [
    "!geth --exec \"loadScript('src/midtest.js')\" attach http://localhost:8345"
   ]
  },
  {
   "cell_type": "markdown",
   "id": "969965df",
   "metadata": {},
   "source": [
    "#### 3. 주소1에서 주소2로 1111 wei 전송 (callback 함수에서 전송메시지 출력)"
   ]
  },
  {
   "cell_type": "code",
   "execution_count": 42,
   "id": "f0127bae",
   "metadata": {},
   "outputs": [
    {
     "name": "stdout",
     "output_type": "stream",
     "text": [
      "Writing src/midtest1.js\n"
     ]
    }
   ],
   "source": [
    "%%writefile src/midtest1.js\n",
    "eth.sendTransaction({from:\"0x3D5fF9C06e49550eC05a3e07CD487e4adcb0b359\", to:\"0x0CE4109a0FC594eE9A283895e3Eb197775f83860\", value:web3.toWei(1111,\"wei\")})"
   ]
  },
  {
   "cell_type": "markdown",
   "id": "ef9794fc",
   "metadata": {},
   "source": [
    "#### 4. 해시 출력 ((3)의 callback으로 출력하지 말고, 전송 완료 후 출력)"
   ]
  },
  {
   "cell_type": "markdown",
   "id": "b29abea3",
   "metadata": {},
   "source": [
    "##### 4번 문제 답"
   ]
  },
  {
   "cell_type": "code",
   "execution_count": 43,
   "id": "80f68b4d",
   "metadata": {
    "scrolled": false
   },
   "outputs": [
    {
     "name": "stdout",
     "output_type": "stream",
     "text": [
      "\"0x4a647f2811c4b94ac50f73d85b5b60809c634a9227e4699fba4a00188ea72ab9\"\n"
     ]
    }
   ],
   "source": [
    "!geth --exec \"loadScript('src/midtest1.js')\" attach http://localhost:8345"
   ]
  },
  {
   "cell_type": "markdown",
   "id": "e584eaed",
   "metadata": {},
   "source": [
    "#### 5. 개스와 개스가격을 곱해서 출력"
   ]
  },
  {
   "cell_type": "code",
   "execution_count": 50,
   "id": "c30c63b6",
   "metadata": {
    "scrolled": true
   },
   "outputs": [
    {
     "name": "stdout",
     "output_type": "stream",
     "text": [
      "{\n",
      "  accessList: [],\n",
      "  blockHash: \"0xac7376b87f217c9e962a273a05b5057a51901580c9e2e7faa71865527d238acc\",\n",
      "  blockNumber: 11,\n",
      "  chainId: \"0x539\",\n",
      "  from: \"0x3d5ff9c06e49550ec05a3e07cd487e4adcb0b359\",\n",
      "  gas: 90000,\n",
      "  gasPrice: 293435034,\n",
      "  hash: \"0x4a647f2811c4b94ac50f73d85b5b60809c634a9227e4699fba4a00188ea72ab9\",\n",
      "  input: \"0x\",\n",
      "  maxFeePerGas: 293435034,\n",
      "  maxPriorityFeePerGas: 1000000000,\n",
      "  nonce: 10,\n",
      "  r: \"0xcad68ea513d00cabef66b69376134f4b38997c4065822ce21f3d029d4bae494\",\n",
      "  s: \"0x5b93bb855e6b64ee0930097218899ccb9b0fa0737227ac6178cf355537675018\",\n",
      "  to: \"0x0ce4109a0fc594ee9a283895e3eb197775f83860\",\n",
      "  transactionIndex: 0,\n",
      "  type: \"0x2\",\n",
      "  v: \"0x0\",\n",
      "  value: 1111\n",
      "}\n"
     ]
    }
   ],
   "source": [
    "!geth --exec \"eth.getTransaction('0x4a647f2811c4b94ac50f73d85b5b60809c634a9227e4699fba4a00188ea72ab9')\" attach http://localhost:8345"
   ]
  },
  {
   "cell_type": "markdown",
   "id": "d619a66a",
   "metadata": {},
   "source": [
    "##### 5번 문제 답"
   ]
  },
  {
   "cell_type": "code",
   "execution_count": 57,
   "id": "f6c6b44b",
   "metadata": {},
   "outputs": [
    {
     "name": "stdout",
     "output_type": "stream",
     "text": [
      "Overwriting src/midtest2.js\n"
     ]
    }
   ],
   "source": [
    "%%writefile src/midtest2.js\n",
    "var a=eth.getTransaction('0x4a647f2811c4b94ac50f73d85b5b60809c634a9227e4699fba4a00188ea72ab9').gas\n",
    "var b=eth.getTransaction('0x4a647f2811c4b94ac50f73d85b5b60809c634a9227e4699fba4a00188ea72ab9').gasPrice\n",
    "console.log(a*b)"
   ]
  },
  {
   "cell_type": "code",
   "execution_count": 58,
   "id": "f0d075b0",
   "metadata": {},
   "outputs": [
    {
     "name": "stdout",
     "output_type": "stream",
     "text": [
      "26409153060000\n",
      "null\n"
     ]
    }
   ],
   "source": [
    "!geth --exec \"loadScript('src/midtest2.js')\" attach http://localhost:8345"
   ]
  },
  {
   "cell_type": "markdown",
   "id": "126330be",
   "metadata": {},
   "source": [
    "#### 6. nonce 출력"
   ]
  },
  {
   "cell_type": "code",
   "execution_count": 59,
   "id": "191eb921",
   "metadata": {
    "scrolled": false
   },
   "outputs": [
    {
     "name": "stdout",
     "output_type": "stream",
     "text": [
      "0\n"
     ]
    }
   ],
   "source": [
    "!geth --exec \"eth.getTransactionCount('0x4a647f2811c4b94ac50f73d85b5b60809c634a9227e4699fba4a00188ea72ab9')\" attach http://localhost:8345"
   ]
  },
  {
   "cell_type": "code",
   "execution_count": 60,
   "id": "23718ec9",
   "metadata": {
    "scrolled": true
   },
   "outputs": [
    {
     "name": "stdout",
     "output_type": "stream",
     "text": [
      "{\n",
      "  baseFeePerGas: 231849904,\n",
      "  difficulty: 1,\n",
      "  extraData: \"0x\",\n",
      "  gasLimit: 30000000,\n",
      "  gasUsed: 21000,\n",
      "  hash: \"0xac7376b87f217c9e962a273a05b5057a51901580c9e2e7faa71865527d238acc\",\n",
      "  logsBloom: \"0x00000000000000000000000000000000000000000000000000000000000000000000000000000000000000000000000000000000000000000000000000000000000000000000000000000000000000000000000000000000000000000000000000000000000000000000000000000000000000000000000000000000000000000000000000000000000000000000000000000000000000000000000000000000000000000000000000000000000000000000000000000000000000000000000000000000000000000000000000000000000000000000000000000000000000000000000000000000000000000000000000000000000000000000000000000000\",\n",
      "  miner: \"0x0000000000000000000000000000000000000000\",\n",
      "  mixHash: \"0x0000000000000000000000000000000000000000000000000000000000000000\",\n",
      "  nonce: \"0x0000000000000000\",\n",
      "  number: 11,\n",
      "  parentHash: \"0xb1f47fc4809e73d6a0188da11199cc1c36bba773137f041b8871c98d8f2f19ca\",\n",
      "  receiptsRoot: \"0xf78dfb743fbd92ade140711c8bbc542b5e307f0ab7984eff35d751969fe57efa\",\n",
      "  sha3Uncles: \"0x1dcc4de8dec75d7aab85b567b6ccd41ad312451b948a7413f0a142fd40d49347\",\n",
      "  size: 631,\n",
      "  stateRoot: \"0x87d0625da4feb62f4cf6edb88767a781d3d31c93b1890638f5253cf1297b9c92\",\n",
      "  timestamp: 1650868522,\n",
      "  totalDifficulty: 12,\n",
      "  transactions: [\"0x4a647f2811c4b94ac50f73d85b5b60809c634a9227e4699fba4a00188ea72ab9\"],\n",
      "  transactionsRoot: \"0x8082a7e6caf8aa74b27fab4be3c656a1b97d312f3a133d876310ddc2aaf63b6b\",\n",
      "  uncles: []\n",
      "}\n"
     ]
    }
   ],
   "source": [
    "!geth --exec \"eth.getBlock('latest')\" attach http://localhost:8345"
   ]
  },
  {
   "cell_type": "code",
   "execution_count": 61,
   "id": "c2963787",
   "metadata": {},
   "outputs": [
    {
     "name": "stdout",
     "output_type": "stream",
     "text": [
      "0\n"
     ]
    }
   ],
   "source": [
    "!geth --exec \"eth.getTransactionCount('0xac7376b87f217c9e962a273a05b5057a51901580c9e2e7faa71865527d238acc')\" attach http://localhost:8345"
   ]
  },
  {
   "cell_type": "markdown",
   "id": "bd38b1b1",
   "metadata": {},
   "source": [
    "##### 6번 문제 답 :  nounce는 0이 나온다."
   ]
  },
  {
   "cell_type": "markdown",
   "id": "d1714079",
   "metadata": {},
   "source": [
    "#### 7. 주소0과 주소1의 잔고 변화 출력 ((2)로부터 증감이 얼마나 되었는지)"
   ]
  },
  {
   "attachments": {
    "image.png": {
     "image/png": "[encoded data removed]"
    }
   },
   "cell_type": "markdown",
   "id": "89015bd2",
   "metadata": {},
   "source": [
    "##### 1111wei 전송 전의 잔고\n",
    "![image.png](attachment:image.png)"
   ]
  },
  {
   "cell_type": "markdown",
   "id": "3ec0f68d",
   "metadata": {},
   "source": [
    "##### 1111wei 전송 후의 잔고"
   ]
  },
  {
   "cell_type": "code",
   "execution_count": 44,
   "id": "f188e6cc",
   "metadata": {
    "scrolled": true
   },
   "outputs": [
    {
     "name": "stdout",
     "output_type": "stream",
     "text": [
      "(1) ac0 :\n",
      "999.998733391864284889\n",
      "ac1 :\n",
      "1000.000000000000001111\n",
      "null\n"
     ]
    }
   ],
   "source": [
    "!geth --exec \"loadScript('src/midtest.js')\" attach http://localhost:8345"
   ]
  },
  {
   "cell_type": "markdown",
   "id": "eb2ab92f",
   "metadata": {},
   "source": [
    "##### 7번 문제 답\n",
    "0번계좌에서는 1111wei만큼 감소하였고, 1번계좌에서는 1111wei만큼 증가하였다."
   ]
  },
  {
   "cell_type": "markdown",
   "id": "98925c7e",
   "metadata": {},
   "source": [
    "#### 8. 잔고의 합계를 더하는 과정 출력"
   ]
  },
  {
   "cell_type": "markdown",
   "id": "d3632363",
   "metadata": {},
   "source": [
    "###### 8번 풀지 못함"
   ]
  },
  {
   "cell_type": "markdown",
   "id": "b0b6159a",
   "metadata": {},
   "source": [
    "#### 9. 잔고의 합계 출력"
   ]
  },
  {
   "cell_type": "code",
   "execution_count": 70,
   "id": "ddaf9d09",
   "metadata": {},
   "outputs": [
    {
     "name": "stdout",
     "output_type": "stream",
     "text": [
      "Overwriting src/midtest3.js\n"
     ]
    }
   ],
   "source": [
    "%%writefile src/midtest3.js\n",
    "console.log(web3.fromWei(eth.getBalance(eth.accounts[0])))\n",
    "var a=web3.fromWei(eth.getBalance(eth.accounts[0]))\n",
    "console.log(web3.fromWei(eth.getBalance(eth.accounts[1])))\n",
    "var b=web3.fromWei(eth.getBalance(eth.accounts[1]))\n",
    "a=[]\n",
    "b=[]\n",
    "console.log(a+b);"
   ]
  },
  {
   "cell_type": "code",
   "execution_count": 71,
   "id": "b65f2891",
   "metadata": {
    "scrolled": false
   },
   "outputs": [
    {
     "name": "stdout",
     "output_type": "stream",
     "text": [
      "999.998733391864284889\n",
      "1000.000000000000001111\n",
      "\n",
      "null\n"
     ]
    }
   ],
   "source": [
    "!geth --exec \"loadScript('src/midtest3.js')\" attach http://localhost:8345"
   ]
  },
  {
   "cell_type": "code",
   "execution_count": null,
   "id": "42bfb468",
   "metadata": {},
   "outputs": [],
   "source": []
  },
  {
   "cell_type": "markdown",
   "id": "28745cd7",
   "metadata": {},
   "source": [
    "## 문제 2"
   ]
  },
  {
   "cell_type": "markdown",
   "id": "b117675a",
   "metadata": {},
   "source": [
    "### * (1) Counter 컨트랙을 구현하세요. add(), subtract(), getCount() 함수를 구현하고, 여기에 호출하는 시점을 출력하기 위해 다음 함수를 추가하세요. 강의자료의 Counter와 Timer를 참조하세요.\n",
    "```\n",
    "function setTimeCalled() internal 호출시점을 설정\n",
    "function getTimeCalled() view public returns(uint256) 호출시점을 조회\n",
    "```\n",
    "REMIX에서 각 함수를 실행해보고, 우하단 창에 출력되는 성공로그를 복사해서 붙여넣기 하세요. 아래는 샘플입니다.\n",
    "* (2) 로컬에서 컴파일하세요. 파일로 abi, bytecode를 작성하세요.\n",
    "\n",
    "* (3) 파일로부터 abi, bytecode를 읽어서 배포하세요. 배포부터 geth 8445로 연결하여 node로 하세요 (ganache 8345로 하면 감점).\n",
    "\n",
    "* (4-1) 배포된 주소로 부터 객체를 생성하고, 바로 계수와 호출시점을 출력하세요.\n",
    "\n",
    "* (4-2) 계수를 1회 증가시키세요. 증가한 후, 증가된 계수와 호출시점을 출력하세요.\n",
    "\n",
    "* (4-3) 위 (4-2)를 1회 반복하세요."
   ]
  },
  {
   "cell_type": "code",
   "execution_count": null,
   "id": "b286f662",
   "metadata": {},
   "outputs": [],
   "source": []
  },
  {
   "cell_type": "code",
   "execution_count": 72,
   "id": "bc2beef8",
   "metadata": {},
   "outputs": [
    {
     "name": "stdout",
     "output_type": "stream",
     "text": [
      "Writing src/Counter.sol\n"
     ]
    }
   ],
   "source": [
    "%%writefile src/Counter.sol\n",
    "pragma solidity ^0.6.0;\n",
    "contract Counter {\n",
    "    uint256 counter = 0;\n",
    "    function add() public {\n",
    "        counter++;\n",
    "    }\n",
    "    function subtract() public {\n",
    "        counter--;\n",
    "    }\n",
    "    function getCounter() public view returns (uint256) {\n",
    "        return counter;\n",
    "    }\n",
    "}"
   ]
  },
  {
   "cell_type": "markdown",
   "id": "1a99e621",
   "metadata": {},
   "source": [
    "#### 2번 문제 답"
   ]
  },
  {
   "cell_type": "code",
   "execution_count": 73,
   "id": "37eefbaf",
   "metadata": {
    "scrolled": true
   },
   "outputs": [
    {
     "name": "stdout",
     "output_type": "stream",
     "text": [
      "\n",
      "======= src/Counter.sol:Counter =======\n",
      "Gas estimation:\n",
      "construction:\n",
      "   5099 + 42200 = 47299\n",
      "external:\n",
      "   add():\t20959\n",
      "   getCounter():\t1035\n",
      "   subtract():\t20984\n",
      "Binary:\n",
      "60806040526000805534801561001457600080fd5b5060d3806100236000396000f3fe6080604052348015600f57600080fd5b5060043610603c5760003560e01c80634f2be91f1460415780636deebae31460495780638ada066e146051575b600080fd5b6047606d565b005b604f6080565b005b60576094565b6040518082815260200191505060405180910390f35b6000808154809291906001019190505550565b600080815480929190600190039190505550565b6000805490509056fea2646970667358221220fa0ce8c75e45c23c90833aee8783a06295736e3acb11c771f1c209199ecc71c164736f6c63430006040033\n",
      "Contract JSON ABI\n",
      "[{\"inputs\":[],\"name\":\"add\",\"outputs\":[],\"stateMutability\":\"nonpayable\",\"type\":\"function\"},{\"inputs\":[],\"name\":\"getCounter\",\"outputs\":[{\"internalType\":\"uint256\",\"name\":\"\",\"type\":\"uint256\"}],\"stateMutability\":\"view\",\"type\":\"function\"},{\"inputs\":[],\"name\":\"subtract\",\"outputs\":[],\"stateMutability\":\"nonpayable\",\"type\":\"function\"}]\n"
     ]
    }
   ],
   "source": [
    "!solc --abi --bin --gas src/Counter.sol"
   ]
  },
  {
   "cell_type": "code",
   "execution_count": 79,
   "id": "46f38291",
   "metadata": {},
   "outputs": [
    {
     "name": "stdout",
     "output_type": "stream",
     "text": [
      "Overwriting src/counterDeploy.js\n"
     ]
    }
   ],
   "source": [
    "%%writefile src/counterDeploy.js\n",
    "var Web3=require('web3');\n",
    "var web3;\n",
    "if (typeof web3 !== 'undefined') {\n",
    "    web3 = new Web3(web3.currentProvider);\n",
    "} else {\n",
    "    web3 = new Web3(new Web3.providers.HttpProvider(\"http://117.16.44.45:8345\"));\n",
    "}\n",
    "\n",
    "var _abiArray=[{\"inputs\":[],\"name\":\"add\",\"outputs\":[],\"stateMutability\":\"nonpayable\",\"type\":\"function\"},{\"inputs\":[],\"name\":\"getCounter\",\"outputs\":[{\"internalType\":\"uint256\",\"name\":\"\",\"type\":\"uint256\"}],\"stateMutability\":\"view\",\"type\":\"function\"},{\"inputs\":[],\"name\":\"subtract\",\"outputs\":[],\"stateMutability\":\"nonpayable\",\"type\":\"function\"}];\n",
    "var _bin=\"60806040526000805534801561001457600080fd5b5060d3806100236000396000f3fe6080604052348015600f57600080fd5b5060043610603c5760003560e01c80634f2be91f1460415780636deebae31460495780638ada066e146051575b600080fd5b6047606d565b005b604f6080565b005b60576094565b6040518082815260200191505060405180910390f35b6000808154809291906001019190505550565b600080815480929190600190039190505550565b6000805490509056fea2646970667358221220fa0ce8c75e45c23c90833aee8783a06295736e3acb11c771f1c209199ecc71c164736f6c63430006040033\";\n",
    "var _contract = new web3.eth.Contract(_abiArray);\n",
    "_contract\n",
    "    .deploy({data:\"0x\"+_bin})\n",
    "    .send({from: \"0x0A815B7818A8e6BC27B430e41Edc8FC455F658c2\", gas: 364124, gasPrice: '1000000000'})\n",
    "    .then(function(newContractInstance){\n",
    "        console.log(newContractInstance.options.address) // instance with the new contract address\n",
    "    });"
   ]
  },
  {
   "cell_type": "code",
   "execution_count": 80,
   "id": "5f39b6c8",
   "metadata": {},
   "outputs": [
    {
     "name": "stderr",
     "output_type": "stream",
     "text": [
      "C:\\Users\\rhfog\\Code\\Block\\myproject\\node_modules\\web3-core-helpers\\src\\errors.js:42\n",
      "        return new Error(message);\n",
      "               ^\n",
      "\n",
      "Error: Invalid JSON RPC response: \"\"\n",
      "    at Object.InvalidResponse (C:\\Users\\rhfog\\Code\\Block\\myproject\\node_modules\\web3-core-helpers\\src\\errors.js:42:16)\n",
      "    at XMLHttpRequest.request.onreadystatechange (C:\\Users\\rhfog\\Code\\Block\\myproject\\node_modules\\web3-providers-http\\src\\index.js:106:32)\n",
      "    at XMLHttpRequestEventTarget.dispatchEvent (C:\\Users\\rhfog\\Code\\Block\\myproject\\node_modules\\xhr2-cookies\\dist\\xml-http-request-event-target.js:34:22)\n",
      "    at XMLHttpRequest._setReadyState (C:\\Users\\rhfog\\Code\\Block\\myproject\\node_modules\\xhr2-cookies\\dist\\xml-http-request.js:208:14)\n",
      "    at XMLHttpRequest._onHttpRequestError (C:\\Users\\rhfog\\Code\\Block\\myproject\\node_modules\\xhr2-cookies\\dist\\xml-http-request.js:349:14)\n",
      "    at ClientRequest.<anonymous> (C:\\Users\\rhfog\\Code\\Block\\myproject\\node_modules\\xhr2-cookies\\dist\\xml-http-request.js:252:61)\n",
      "    at ClientRequest.emit (node:events:526:28)\n",
      "    at Socket.socketErrorListener (node:_http_client:442:9)\n",
      "    at Socket.emit (node:events:526:28)\n",
      "    at emitErrorNT (node:internal/streams/destroy:157:8)\n",
      "    at emitErrorCloseNT (node:internal/streams/destroy:122:3)\n",
      "    at processTicksAndRejections (node:internal/process/task_queues:83:21)\n"
     ]
    }
   ],
   "source": [
    "!node src/counterDeploy.js"
   ]
  },
  {
   "cell_type": "code",
   "execution_count": null,
   "id": "1ce462a4",
   "metadata": {},
   "outputs": [],
   "source": []
  }
 ],
 "metadata": {
  "kernelspec": {
   "display_name": "Python 3 (ipykernel)",
   "language": "python",
   "name": "python3"
  },
  "language_info": {
   "codemirror_mode": {
    "name": "ipython",
    "version": 3
   },
   "file_extension": ".py",
   "mimetype": "text/x-python",
   "name": "python",
   "nbconvert_exporter": "python",
   "pygments_lexer": "ipython3",
   "version": "3.10.2"
  }
 },
 "nbformat": 4,
 "nbformat_minor": 5
}
