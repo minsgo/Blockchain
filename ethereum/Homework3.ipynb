{
 "cells": [
  {
   "cell_type": "markdown",
   "id": "a9328772",
   "metadata": {},
   "source": [
    "# Hello Snowman"
   ]
  },
  {
   "cell_type": "markdown",
   "id": "f7df1302",
   "metadata": {},
   "source": [
    "## Hello 컨트랙을 수정해서 sayHello() 함수를 호출하면 \"Hello, Snowman\"이 출력되도록 하세요.\n",
    "\n",
    "- Solidity로 Hello.sol을 코딩하고\n",
    "\n",
    "- solc로 컴파일하고\n",
    "\n",
    "- web3.js를 사용하여 node로 프로그램해서 배포\n",
    "\n",
    "- web3.js를 사용하여 node로 sayHello() 출력"
   ]
  },
  {
   "cell_type": "markdown",
   "id": "f19e82f7",
   "metadata": {},
   "source": [
    "### 주소출력"
   ]
  },
  {
   "cell_type": "code",
   "execution_count": 1,
   "id": "8358c414",
   "metadata": {},
   "outputs": [
    {
     "name": "stdout",
     "output_type": "stream",
     "text": [
      "[\n",
      "  '0x3D5fF9C06e49550eC05a3e07CD487e4adcb0b359',\n",
      "  '0x0CE4109a0FC594eE9A283895e3Eb197775f83860',\n",
      "  '0xa8408E006b1Ac96a03F5D7d5F927196fD38E97dC',\n",
      "  '0xc34861633A721C163db22E5Acf4FfFB6731A43f6',\n",
      "  '0x36C51273f0c79EF0707a789A47D23F80db9121A5',\n",
      "  '0x5d3b1Eca43185aBCf8255F6455510255D49c1586',\n",
      "  '0x685cA28Aa4f44595b73f3635DE5b5BEf437F1d09',\n",
      "  '0xc42983e5Ee322245E14Bf31340Ae580A850194f4',\n",
      "  '0x0331fA6DDA9Ff56dACD27606E3801d22B3Fd297D',\n",
      "  '0x152212e0A22542d9a592Fba6345dD633b5102928'\n",
      "]\n"
     ]
    }
   ],
   "source": [
    "!node src/getMyAddr.js"
   ]
  },
  {
   "cell_type": "code",
   "execution_count": 2,
   "id": "cea8cbbc",
   "metadata": {},
   "outputs": [
    {
     "name": "stdout",
     "output_type": "stream",
     "text": [
      "Overwriting src/Hello.sol\n"
     ]
    }
   ],
   "source": [
    "%%writefile src/Hello.sol\n",
    "pragma solidity 0.6.4;\n",
    "\n",
    "contract Hello {\n",
    "    function sayHello() pure public returns(string memory) {\n",
    "        return \"Hello, Snowman\";\n",
    "    }\n",
    "}"
   ]
  },
  {
   "cell_type": "code",
   "execution_count": 3,
   "id": "cf389fcb",
   "metadata": {
    "scrolled": true
   },
   "outputs": [
    {
     "name": "stdout",
     "output_type": "stream",
     "text": [
      "\n",
      "======= src/Hello.sol:Hello =======\n",
      "Gas estimation:\n",
      "construction:\n",
      "   105 + 57200 = 57305\n",
      "external:\n",
      "   sayHello():\tinfinite\n",
      "Binary:\n",
      "608060405234801561001057600080fd5b5061011e806100206000396000f3fe6080604052348015600f57600080fd5b506004361060285760003560e01c8063ef5fb05b14602d575b600080fd5b603360ab565b6040518080602001828103825283818151815260200191508051906020019080838360005b8381101560715780820151818401526020810190506058565b50505050905090810190601f168015609d5780820380516001836020036101000a031916815260200191505b509250505060405180910390f35b60606040518060400160405280600e81526020017f48656c6c6f2c20536e6f776d616e00000000000000000000000000000000000081525090509056fea264697066735822122096192db1cf913eddbfdb70f2f076d5149f689b7c2ed9400bedbc2a19eaba004464736f6c63430006040033\n",
      "Contract JSON ABI\n",
      "[{\"inputs\":[],\"name\":\"sayHello\",\"outputs\":[{\"internalType\":\"string\",\"name\":\"\",\"type\":\"string\"}],\"stateMutability\":\"pure\",\"type\":\"function\"}]\n"
     ]
    }
   ],
   "source": [
    "!solc --abi --bin --gas src/Hello.sol"
   ]
  },
  {
   "cell_type": "markdown",
   "id": "c6099af1",
   "metadata": {},
   "source": [
    "### 배포함수"
   ]
  },
  {
   "cell_type": "code",
   "execution_count": 4,
   "id": "3ebb1851",
   "metadata": {},
   "outputs": [
    {
     "name": "stdout",
     "output_type": "stream",
     "text": [
      "Overwriting src/HelloDeploy2.js\n"
     ]
    }
   ],
   "source": [
    "%%writefile src/HelloDeploy2.js\n",
    "var Web3=require('web3');\n",
    "var web3 = new Web3(new Web3.providers.HttpProvider(\"http://localhost:8345\"));\n",
    "var shelloContract = new web3.eth.Contract([{\"constant\":true,\"inputs\":[],\"name\":\"sayHello\",\"outputs\":[{\"name\":\"\",\"type\":\"string\"}],\"payable\":false,\"stateMutability\":\"pure\",\"type\":\"function\"}]);\n",
    "shelloContract\n",
    "    .deploy({\n",
    "            data: '0x608060405234801561001057600080fd5b5061011e806100206000396000f3fe6080604052348015600f57600080fd5b506004361060285760003560e01c8063ef5fb05b14602d575b600080fd5b603360ab565b6040518080602001828103825283818151815260200191508051906020019080838360005b8381101560715780820151818401526020810190506058565b50505050905090810190601f168015609d5780820380516001836020036101000a031916815260200191505b509250505060405180910390f35b60606040518060400160405280600e81526020017f48656c6c6f2c20536e6f776d616e00000000000000000000000000000000000081525090509056fea264697066735822122096192db1cf913eddbfdb70f2f076d5149f689b7c2ed9400bedbc2a19eaba004464736f6c63430006040033', \n",
    "    })\n",
    "    .send({\n",
    "     from: \"0x3D5fF9C06e49550eC05a3e07CD487e4adcb0b359\",\n",
    "     gas: '4700000'\n",
    "    }, function (error, transactionHash){ \n",
    "            console.log(error, transactionHash); \n",
    "    })\n",
    "    .on('transactionHash', function(error,transactionHash) {\n",
    "        console.log(\"hash-- \"+transactionHash);\n",
    "    })\n",
    "    .on('receipt', function(receipt) {\n",
    "        console.log('receipt:: '+receipt.contractAddress);\n",
    "    })\n",
    "    .then(function(newContractInstance){\n",
    "        console.log(newContractInstance.options.address)\n",
    "    });"
   ]
  },
  {
   "cell_type": "code",
   "execution_count": 5,
   "id": "73c41354",
   "metadata": {},
   "outputs": [
    {
     "name": "stdout",
     "output_type": "stream",
     "text": [
      "null 0x94109c960f20fd0c9a7f72771f26143e0d230775fc8ad5747b0712974d0bfa5b\n",
      "hash-- undefined\n",
      "receipt:: 0x16203bCA20eFCe3e6D15dCAE7702C0b06b28BAE4\n",
      "0x16203bCA20eFCe3e6D15dCAE7702C0b06b28BAE4\n"
     ]
    }
   ],
   "source": [
    "!node src/HelloDeploy2.js"
   ]
  },
  {
   "cell_type": "markdown",
   "id": "fd23d4b9",
   "metadata": {},
   "source": [
    "### 사용"
   ]
  },
  {
   "cell_type": "code",
   "execution_count": 6,
   "id": "ef2869c7",
   "metadata": {},
   "outputs": [
    {
     "name": "stdout",
     "output_type": "stream",
     "text": [
      "Overwriting src/HelloUse.js\n"
     ]
    }
   ],
   "source": [
    "%%writefile src/HelloUse.js\n",
    "var Web3=require('web3');\n",
    "var web3 = new Web3(new Web3.providers.HttpProvider(\"http://localhost:8345\"));\n",
    "var shelloContract = new web3.eth.Contract([{\"constant\":true,\"inputs\":[],\"name\":\"sayHello\",\"outputs\":[{\"name\":\"\",\"type\":\"string\"}],\"payable\":false,\"stateMutability\":\"pure\",\"type\":\"function\"}],\n",
    "                                      \"0x16203bCA20eFCe3e6D15dCAE7702C0b06b28BAE4\");\n",
    "shelloContract.methods.sayHello().call().then(function(str) {console.log(str);});"
   ]
  },
  {
   "cell_type": "code",
   "execution_count": 7,
   "id": "aa1ad1fd",
   "metadata": {},
   "outputs": [
    {
     "name": "stdout",
     "output_type": "stream",
     "text": [
      "Hello, Snowman\n"
     ]
    }
   ],
   "source": [
    "!node src/HelloUse.js"
   ]
  }
 ],
 "metadata": {
  "kernelspec": {
   "display_name": "Python 3 (ipykernel)",
   "language": "python",
   "name": "python3"
  },
  "language_info": {
   "codemirror_mode": {
    "name": "ipython",
    "version": 3
   },
   "file_extension": ".py",
   "mimetype": "text/x-python",
   "name": "python",
   "nbconvert_exporter": "python",
   "pygments_lexer": "ipython3",
   "version": "3.10.2"
  }
 },
 "nbformat": 4,
 "nbformat_minor": 5
}
