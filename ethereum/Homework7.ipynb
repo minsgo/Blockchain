{
 "cells": [
  {
   "cell_type": "markdown",
   "id": "c1425bb8",
   "metadata": {},
   "source": [
    "# 12주\n",
    "블록체인에서 주문을 하고, 그 주문내역을 로컬 파일에 작성하세요.\n",
    "\n",
    "블록체인으로 주문이 전송되면 이벤트가 발생하도록 프로그램하고, 주문내역은 로컬파일에 저장됩니다.\n",
    "\n",
    "* 강의자료 OrderEvent.sol을 참조해서 구현하세요.\n",
    "\n",
    "\t* order(상품항목, 주문개수, 단가, 배송지) 함수를 작성. '개수 x 단가'로 주문금액을 계산하고 이 금액만큼 입금되지 않으면 예외발생.\n",
    "\n",
    "\t* getBalance() 함수를 작성. 최초 프로그램 생성자 owner만 읽을 수 있게 modfier isOwner 작성.\n",
    "\n",
    "(1) REMIX에서 주문하고, 이벤트 발생하는지 보이도록 콘솔 출력 붙여넣으세요.\n",
    "\n",
    "(2) 파일로 컴파일 하세요.\n",
    "\n",
    "(3) ganache에서 배포하세요.\n",
    "\n",
    "(4) 주문을 3건만 하고, 이벤트를 통해 다음과 같이 출력하세요.\n",
    "\n",
    "항목은 차례대로 주소, 상품항목번호, 주문개수, 단가, 배송지.\n",
    "\n",
    "```\n",
    "\n",
    "전송자주소, 1111, 3, 100, 20 2-gil Hongji-dong Jongro-gu Seoul\n",
    "\n",
    "전송자주소, 1111, 5, 100, 20 2-gil Hongji-dong Jongro-gu Seoul\n",
    "\n",
    "전송자주소, 1111, 20, 100, 20 2-gil Hongji-dong Jongro-gu Seoul\n",
    "\n",
    "```\n",
    "\n",
    "(5) 파일에 저장된 파일내역을 출력하세요 (주피터 노트북에서 !type src/OrderEvent.txt)"
   ]
  },
  {
   "cell_type": "markdown",
   "id": "fdabb1ec",
   "metadata": {},
   "source": [
    "## 함수작성"
   ]
  },
  {
   "cell_type": "code",
   "execution_count": 7,
   "id": "c15fe5db",
   "metadata": {},
   "outputs": [
    {
     "name": "stdout",
     "output_type": "stream",
     "text": [
      "Overwriting src/OrderEvent1.sol\n"
     ]
    }
   ],
   "source": [
    "%%writefile src/OrderEvent1.sol\n",
    "//SPDX-License-Identifier: GPL-3.0-or-later\n",
    "pragma solidity ^0.6.4;\n",
    "\n",
    "contract OrderEvent1 {\n",
    "    \n",
    "    address payable owner;\n",
    "    constructor() public payable {\n",
    "        owner = msg.sender;\n",
    "    }\n",
    "    \n",
    "    event OrderLog(string);\n",
    "    event OrderLog(bytes2 _itemId, uint _value);\n",
    "    event OrderLog(uint timestamp);\n",
    "    event OrderLog(address indexed _from, bytes2 _itemId, uint _quantity, uint unitPrice, string addr);\n",
    "\n",
    "    function order(bytes2 _itemId, uint quantity,uint unitPrice, string memory addr) public payable {\n",
    "        uint256 orderTime = block.timestamp;\n",
    "        uint256 orderAmount = quantity * unitPrice;\n",
    "        \n",
    "        require(msg.value == orderAmount);\n",
    "        emit OrderLog(\"Ordered\");\n",
    "        emit OrderLog(orderTime);\n",
    "        emit OrderLog(msg.sender, _itemId, quantity, unitPrice, addr);\n",
    "    }\n",
    "    function getBalance() public isOwner view returns(uint) {\n",
    "        return owner.balance;\n",
    "    }\n",
    "    modifier isOwner {\n",
    "        if(msg.sender != owner)\n",
    "        {\n",
    "            revert();\n",
    "        }\n",
    "        _;\n",
    "    }\n",
    "}"
   ]
  },
  {
   "cell_type": "markdown",
   "id": "e4390819",
   "metadata": {},
   "source": [
    "## REMIX 배포 결과"
   ]
  },
  {
   "cell_type": "markdown",
   "id": "87bd57cf",
   "metadata": {},
   "source": [
    "[vm]from: 0x5B3...eddC4to: Order.(constructor)value: 10000000 weidata: 0x608...40033logs: 0hash: 0x9d8...309b3\n",
    "\n",
    "status\ttrue Transaction mined and execution succeed\n",
    "\n",
    "transaction hash\t0x9d885aa2f58cfbcfca68a5a9fcc5c1ef164b3817f682e2b915d02de842d309b3\n",
    "\n",
    "from\t0x5B38Da6a701c568545dCfcB03FcB875f56beddC4\n",
    "\n",
    "to\tOrder.(constructor)\n",
    "\n",
    "gas\t337161 gas\n",
    "\n",
    "transaction cost\t293183 gas \n",
    "\n",
    "execution cost\t293183 gas \n",
    "\n",
    "input\t0x608...40033\n",
    "\n",
    "decoded input\t{}\n",
    "\n",
    "decoded output\t - \n",
    "\n",
    "logs\t[]\n",
    "\n",
    "val\t10000000 wei"
   ]
  },
  {
   "cell_type": "markdown",
   "id": "f7a48991",
   "metadata": {},
   "source": [
    "## 파일 컴파일"
   ]
  },
  {
   "cell_type": "code",
   "execution_count": 11,
   "id": "e4e07142",
   "metadata": {},
   "outputs": [],
   "source": [
    "!solc.exe --optimize --combined-json abi,bin src/OrderEvent1.sol > src/OrderEvent1.json"
   ]
  },
  {
   "cell_type": "markdown",
   "id": "6fd73f97",
   "metadata": {},
   "source": [
    "## 배포"
   ]
  },
  {
   "cell_type": "code",
   "execution_count": 14,
   "id": "4c4dc563",
   "metadata": {},
   "outputs": [
    {
     "name": "stdout",
     "output_type": "stream",
     "text": [
      "Overwriting src/OrderEvent1Deploy.js\n"
     ]
    }
   ],
   "source": [
    "%%writefile src/OrderEvent1Deploy.js\n",
    "var Web3 = require('web3');\n",
    "var _abiBinJson = require('./OrderEvent1.json');\n",
    "var web3 = new Web3(new Web3.providers.HttpProvider(\"http://localhost:8345\"));\n",
    "\n",
    "contractName = Object.keys(_abiBinJson.contracts);\n",
    "console.log(\"- contract name : \", contractName);\n",
    "_abiArray=JSON.parse(_abiBinJson.contracts[contractName].abi); \n",
    "_bin = _abiBinJson.contracts[contractName].bin;\n",
    "\n",
    "async function deploy() {\n",
    "    const accounts = await web3.eth.getAccounts();\n",
    "    console.log(\"Deploying the contract form \" + accounts[0]);\n",
    "    var deployed = await new web3.eth.Contract(_abiArray)\n",
    "        .deploy({data: \"0x\" + _bin})\n",
    "        .send({from: accounts[0], gas: 260000, function(err, transactionHash) {\n",
    "            if(!err) {\n",
    "                console.log(\"hash : \" + transactionHash);\n",
    "            }\n",
    "        }})\n",
    "    console.log(\"---> The contract deployed to : \" + deployed.options.address);\n",
    "}\n",
    "\n",
    "deploy();"
   ]
  },
  {
   "cell_type": "code",
   "execution_count": 15,
   "id": "b6a82141",
   "metadata": {},
   "outputs": [
    {
     "name": "stdout",
     "output_type": "stream",
     "text": [
      "- contract name :  [ 'src/OrderEvent1.sol:OrderEvent1' ]\n",
      "Deploying the contract form 0xf0B05982bB5D9E5e85b2382075B18662A2570e16\n",
      "---> The contract deployed to : 0xd05c691a2bD5F440226D2f6044CfBB0Da7c1AA0f\n"
     ]
    }
   ],
   "source": [
    "!node src/OrderEvent1Deploy.js"
   ]
  },
  {
   "cell_type": "markdown",
   "id": "ff5b1e43",
   "metadata": {},
   "source": [
    "## 주문"
   ]
  },
  {
   "cell_type": "code",
   "execution_count": 16,
   "id": "fd3ec4ab",
   "metadata": {},
   "outputs": [
    {
     "name": "stdout",
     "output_type": "stream",
     "text": [
      "Writing src/OrderUse.js\n"
     ]
    }
   ],
   "source": [
    "%%writefile src/OrderUse.js\n",
    "var Web3 = require('web3');\n",
    "var fs = require('fs');\n",
    "var _abiBinJson = require('./OrderEvent1.json');\n",
    "var web3 = new Web3(new Web3.providers.WebsocketProvider(\"ws://localhost:8345\"));\n",
    "\n",
    "contractName = Object.keys(_abiBinJson.contracts);\n",
    "console.log(\"- contract name : \", contractName);\n",
    "_abiArray=JSON.parse(_abiBinJson.contracts[contractName].abi); \n",
    "_bin = _abiBinJson.contracts[contractName].bin;\n",
    "\n",
    "async function doIt() {\n",
    "    var _order = new web3.eth.Contract(_abiArray, '0xd05c691a2bD5F440226D2f6044CfBB0Da7c1AA0f');\n",
    "    const accounts = await web3.eth.getAccounts();\n",
    "    console.log(\"Account : \" + accounts[0]);\n",
    "    \n",
    "    var event = _order.events.OrderLog(\n",
    "        {fromBlock: 0}, function(error, result) {\n",
    "            if(!error) {\n",
    "                var log = JSON.stringify(result.returnValues);\n",
    "                console.log(\"Event fired : \" + log);\n",
    "                fs.appendFile(\"src/OrderEvent.txt\", log, \"utf-8\", function(e) {\n",
    "                    if(!e) {\n",
    "                        console.log(\">> Writing to file\");\n",
    "                    }\n",
    "                });\n",
    "            }\n",
    "            else {\n",
    "                console.log(error);\n",
    "            }\n",
    "        }\n",
    "    );\n",
    "    \n",
    "    var value;\n",
    "    my = await _order.methods.order(\"0x1111\", 3, 100, \"20 2-gil Hongji-dong Jongro-gu Seoul\")\n",
    "            .send({from: accounts[0], gas: 100000, value: 300});\n",
    "    console.log(\"---> MyFunction called \" + JSON.stringify(my.events.OrderLog.returnValues));\n",
    "    \n",
    "    my = await _order.methods.order(\"0x1111\", 5, 100, \"20 2-gil Hongji-dong Jongro-gu Seoul\")\n",
    "            .send({from: accounts[0], gas: 100000, value: 500});\n",
    "    console.log(\"---> MyFunction called \" + JSON.stringify(my.events.OrderLog.returnValues));\n",
    "    \n",
    "    my = await _order.methods.order(\"0x1111\", 20, 100, \"20 2-gil Hongji-dong Jongro-gu Seoul\")\n",
    "            .send({from: accounts[0], gas: 100000, value: 2000});\n",
    "    console.log(\"---> MyFunction called \" + JSON.stringify(my.events.OrderLog.returnValues));\n",
    "    \n",
    "    process.exit(1);\n",
    "}\n",
    "\n",
    "doIt();"
   ]
  },
  {
   "cell_type": "code",
   "execution_count": 17,
   "id": "33737779",
   "metadata": {},
   "outputs": [
    {
     "name": "stdout",
     "output_type": "stream",
     "text": [
      "- contract name :  [ 'src/OrderEvent1.sol:OrderEvent1' ]\n",
      "Account : 0xf0B05982bB5D9E5e85b2382075B18662A2570e16\n",
      "Event fired : {\"0\":\"0xf0B05982bB5D9E5e85b2382075B18662A2570e16\",\"1\":\"0x1111\",\"2\":\"3\",\"3\":\"100\",\"4\":\"20 2-gil Hongji-dong Jongro-gu Seoul\",\"_from\":\"0xf0B05982bB5D9E5e85b2382075B18662A2570e16\",\"_itemId\":\"0x1111\",\"_quantity\":\"3\",\"unitPrice\":\"100\",\"addr\":\"20 2-gil Hongji-dong Jongro-gu Seoul\"}\n",
      "---> MyFunction called undefined\n",
      ">> Writing to file\n",
      "Event fired : {\"0\":\"0xf0B05982bB5D9E5e85b2382075B18662A2570e16\",\"1\":\"0x1111\",\"2\":\"5\",\"3\":\"100\",\"4\":\"20 2-gil Hongji-dong Jongro-gu Seoul\",\"_from\":\"0xf0B05982bB5D9E5e85b2382075B18662A2570e16\",\"_itemId\":\"0x1111\",\"_quantity\":\"5\",\"unitPrice\":\"100\",\"addr\":\"20 2-gil Hongji-dong Jongro-gu Seoul\"}\n",
      "---> MyFunction called undefined\n",
      ">> Writing to file\n",
      "Event fired : {\"0\":\"0xf0B05982bB5D9E5e85b2382075B18662A2570e16\",\"1\":\"0x1111\",\"2\":\"20\",\"3\":\"100\",\"4\":\"20 2-gil Hongji-dong Jongro-gu Seoul\",\"_from\":\"0xf0B05982bB5D9E5e85b2382075B18662A2570e16\",\"_itemId\":\"0x1111\",\"_quantity\":\"20\",\"unitPrice\":\"100\",\"addr\":\"20 2-gil Hongji-dong Jongro-gu Seoul\"}\n",
      "---> MyFunction called undefined\n"
     ]
    }
   ],
   "source": [
    "!node src/OrderUse.js"
   ]
  },
  {
   "cell_type": "markdown",
   "id": "82bb49db",
   "metadata": {},
   "source": [
    "## 저장내역 출력"
   ]
  },
  {
   "cell_type": "code",
   "execution_count": 18,
   "id": "3e4d9e1d",
   "metadata": {},
   "outputs": [
    {
     "name": "stdout",
     "output_type": "stream",
     "text": [
      "{\"0\":\"0xf0B05982bB5D9E5e85b2382075B18662A2570e16\",\"1\":\"0x1111\",\"2\":\"3\",\"3\":\"100\",\"4\":\"20 2-gil Hongji-dong Jongro-gu Seoul\",\"_from\":\"0xf0B05982bB5D9E5e85b2382075B18662A2570e16\",\"_itemId\":\"0x1111\",\"_quantity\":\"3\",\"unitPrice\":\"100\",\"addr\":\"20 2-gil Hongji-dong Jongro-gu Seoul\"}{\"0\":\"0xf0B05982bB5D9E5e85b2382075B18662A2570e16\",\"1\":\"0x1111\",\"2\":\"5\",\"3\":\"100\",\"4\":\"20 2-gil Hongji-dong Jongro-gu Seoul\",\"_from\":\"0xf0B05982bB5D9E5e85b2382075B18662A2570e16\",\"_itemId\":\"0x1111\",\"_quantity\":\"5\",\"unitPrice\":\"100\",\"addr\":\"20 2-gil Hongji-dong Jongro-gu Seoul\"}{\"0\":\"0xf0B05982bB5D9E5e85b2382075B18662A2570e16\",\"1\":\"0x1111\",\"2\":\"20\",\"3\":\"100\",\"4\":\"20 2-gil Hongji-dong Jongro-gu Seoul\",\"_from\":\"0xf0B05982bB5D9E5e85b2382075B18662A2570e16\",\"_itemId\":\"0x1111\",\"_quantity\":\"20\",\"unitPrice\":\"100\",\"addr\":\"20 2-gil Hongji-dong Jongro-gu Seoul\"}\n"
     ]
    }
   ],
   "source": [
    "!type src\\OrderEvent.txt"
   ]
  },
  {
   "cell_type": "code",
   "execution_count": null,
   "id": "df0e5609",
   "metadata": {},
   "outputs": [],
   "source": []
  }
 ],
 "metadata": {
  "kernelspec": {
   "display_name": "Python 3 (ipykernel)",
   "language": "python",
   "name": "python3"
  },
  "language_info": {
   "codemirror_mode": {
    "name": "ipython",
    "version": 3
   },
   "file_extension": ".py",
   "mimetype": "text/x-python",
   "name": "python",
   "nbconvert_exporter": "python",
   "pygments_lexer": "ipython3",
   "version": "3.10.2"
  }
 },
 "nbformat": 4,
 "nbformat_minor": 5
}
