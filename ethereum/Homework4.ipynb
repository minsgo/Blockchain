{
 "cells": [
  {
   "cell_type": "markdown",
   "id": "c53f4b3c",
   "metadata": {},
   "source": [
    "# Hello 컨트랙을 수정하여, 인사하는 대상을 지정해보자.\n",
    "\n",
    "* 멤버변수에는 toWhom을 지정한다.\n",
    "\n",
    "* 멤버함수에는 아래 함수를 구현한다. 일부러 함수의 입출력 인자는 생략하니 자신이 생각해서 구현한다.\n",
    "\n",
    "```\n",
    "\n",
    "function sayHello() view public returns() 입력: 없다, 출력: Hello smu (bytes 또는 string로 출력)\n",
    "\n",
    "function setWhom() public 입력: 인사하는 대상 (toWhom을 지정, bytes 또는 string로 입력)\n",
    "\n",
    "function getWhom() view public returns() 출력: 인사하는 대상 (toWhom을 읽음, bytes 또는 string로 출력)\n",
    "\n",
    "```\n",
    "\n",
    "\n",
    "\n",
    "문자열 합성을 하려면, 이전에는 abi.encodePacked()를 함수를 사용했으나 버전 0.8.10부터 bytes.concat() 또는 string.concat() 함수를 사용하면 된다.\n",
    "\n",
    "\n",
    "\n",
    "각 각 2개의 컨트랙을 구현한다 - HelloInString.sol, HelloInBytes.sol.\n",
    "\n",
    "* (1) REMIX에서 실행하고, 각 함수의 로그 결과를 붙여넣기한다 (입력, 출력, gas가 보이도록).\n",
    "\n",
    "* (2) HelloInString과 HelloInBytes의 배포할 때와 sayHello() 함수의 gas를 비교하세요.\n",
    "\n"
   ]
  },
  {
   "cell_type": "markdown",
   "id": "ea18fcce",
   "metadata": {},
   "source": [
    "## HelloInString 함수"
   ]
  },
  {
   "cell_type": "code",
   "execution_count": 1,
   "id": "bb6c5ab4",
   "metadata": {},
   "outputs": [
    {
     "name": "stdout",
     "output_type": "stream",
     "text": [
      "Writing src/HelloInString.sol\n"
     ]
    }
   ],
   "source": [
    "%%writefile src/HelloInString.sol\n",
    "//SPDX-License-Identifier: GPL-3.0-or-later\n",
    "pragma solidity ^0.8.12;\n",
    "\n",
    "contract HelloInString {\n",
    "    string toWhom = \"smu\";\n",
    "\n",
    "    function sayHello() view public returns(string memory) {\n",
    "        string memory hello = \"hello \";\n",
    "        return string.concat(hello, toWhom);\n",
    "    }\n",
    "\n",
    "    function setWhom(string memory whom) public {\n",
    "        toWhom = whom;\n",
    "    }\n",
    "\n",
    "    function getWhom() view public returns(string memory) {\n",
    "        return toWhom;\n",
    "    }\n",
    "}"
   ]
  },
  {
   "cell_type": "markdown",
   "id": "f47fd59a",
   "metadata": {},
   "source": [
    "## Deploy 완료 로그"
   ]
  },
  {
   "cell_type": "markdown",
   "id": "d11aa819",
   "metadata": {},
   "source": [
    "## \n",
    "[vm]from: 0x5B3...eddC4to: HelloInString.(constructor)value: 0 weidata: 0x608...c0033logs: 0hash: 0x082...b0a52\n",
    "\n",
    "status\ttrue Transaction mined and execution succeed\n",
    "\n",
    "transaction hash\t0x082367f9b57e17d58a786f6cd062742b29d1073386466b9628141254b35b0a52\n",
    "\n",
    "from\t0x5B38Da6a701c568545dCfcB03FcB875f56beddC4\n",
    "\n",
    "to\tHelloInString.(constructor)\n",
    "\n",
    "gas\t482919 gas\n",
    "\n",
    "transaction cost\t419929 gas \n",
    "\n",
    "execution cost\t419929 gas \n",
    "\n",
    "input\t0x608...c0033\n",
    "\n",
    "decoded input\t{}\n",
    "\n",
    "decoded output\t - \n",
    "\n",
    "logs\t[]\n",
    "\n",
    "val\t0 wei"
   ]
  },
  {
   "cell_type": "markdown",
   "id": "da6df541",
   "metadata": {},
   "source": [
    "## setWhom 완료 로그"
   ]
  },
  {
   "cell_type": "markdown",
   "id": "7aa148e5",
   "metadata": {},
   "source": [
    "## \n",
    "[vm]from: 0x5B3...eddC4to: HelloInString.setWhom(string) 0xd91...39138value: 0 weidata: 0x1c8...00000logs: 0hash: 0xec5...d5307\n",
    "\n",
    "status\ttrue Transaction mined and execution succeed\n",
    "\n",
    "transaction hash\t0xec5e037c92bec4e978a59583f79b1892927496d60a500464572394f3d67d5307\n",
    "\n",
    "from\t0x5B38Da6a701c568545dCfcB03FcB875f56beddC4\n",
    "\n",
    "to\tHelloInString.setWhom(string) 0xd9145CCE52D386f254917e481eB44e9943F39138\n",
    "\n",
    "gas\t31416 gas\n",
    "\n",
    "transaction cost\t27318 gas \n",
    "\n",
    "execution cost\t27318 gas \n",
    "\n",
    "input\t0x1c8...00000\n",
    "\n",
    "decoded input\t{\n",
    "\t\"string whom\": \"smu\"\n",
    "}\n",
    "\n",
    "decoded output\t{}\n",
    "\n",
    "logs\t[]\n",
    "\n",
    "val\t0 wei"
   ]
  },
  {
   "cell_type": "markdown",
   "id": "7a05175f",
   "metadata": {},
   "source": [
    "## getWhom 완료 로그"
   ]
  },
  {
   "cell_type": "markdown",
   "id": "ccae1f9b",
   "metadata": {},
   "source": [
    "## CALL\n",
    "[call]from: 0x5B38Da6a701c568545dCfcB03FcB875f56beddC4to: HelloInString.getWhom()data: 0x3c5...00c0e\n",
    "\n",
    "from\t0x5B38Da6a701c568545dCfcB03FcB875f56beddC4\n",
    "\n",
    "to\tHelloInString.getWhom() 0xd9145CCE52D386f254917e481eB44e9943F39138\n",
    "\n",
    "execution cost\t24527 gas (Cost only applies when called by a contract)\n",
    "\n",
    "input\t0x3c5...00c0e\n",
    "\n",
    "decoded input\t{}\n",
    "\n",
    "decoded output\t{\n",
    "\t\"0\": \"string: smu\"\n",
    "}\n",
    "\n",
    "logs\t[]"
   ]
  },
  {
   "cell_type": "markdown",
   "id": "38d00aa4",
   "metadata": {},
   "source": [
    "## HelloInString 완료 로그"
   ]
  },
  {
   "cell_type": "markdown",
   "id": "30493d68",
   "metadata": {},
   "source": [
    "## CALL\n",
    "[call]from: 0x5B38Da6a701c568545dCfcB03FcB875f56beddC4to: HelloInString.sayHello()data: 0xef5...fb05b\n",
    "\n",
    "from\t0x5B38Da6a701c568545dCfcB03FcB875f56beddC4\n",
    "\n",
    "to\tHelloInString.sayHello() 0xd9145CCE52D386f254917e481eB44e9943F39138\n",
    "\n",
    "execution cost\t24751 gas (Cost only applies when called by a contract)\n",
    "\n",
    "input\t0xef5...fb05b\n",
    "\n",
    "decoded input\t{}\n",
    "\n",
    "decoded output\t{\n",
    "\t\"0\": \"string: hello smu\"\n",
    "}\n",
    "\n",
    "logs\t[]"
   ]
  },
  {
   "cell_type": "markdown",
   "id": "6ff235f4",
   "metadata": {},
   "source": [
    "## HelloInByte 함수"
   ]
  },
  {
   "cell_type": "code",
   "execution_count": 2,
   "id": "0b18e558",
   "metadata": {},
   "outputs": [
    {
     "name": "stdout",
     "output_type": "stream",
     "text": [
      "Writing src/HelloInBytes.sol\n"
     ]
    }
   ],
   "source": [
    "%%writefile src/HelloInBytes.sol\n",
    "//SPDX-License-Identifier: GPL-3.0-or-later\n",
    "pragma solidity ^0.8.12;\n",
    "\n",
    "contract HelloInByte {\n",
    "    bytes toWhom = \"smu\";\n",
    "\n",
    "    function sayHello() view public returns(bytes memory) {\n",
    "        bytes memory hello = \"hello \";\n",
    "        return bytes.concat(hello, toWhom);\n",
    "    }\n",
    "\n",
    "    function setWhom(bytes memory whom) public {\n",
    "        toWhom = whom;\n",
    "    }\n",
    "\n",
    "    function getWhom() view public returns(bytes memory) {\n",
    "        return toWhom;\n",
    "    }\n",
    "}"
   ]
  },
  {
   "cell_type": "markdown",
   "id": "1db8c88f",
   "metadata": {},
   "source": [
    "## Deploy 완료 로그"
   ]
  },
  {
   "cell_type": "markdown",
   "id": "3c0487fd",
   "metadata": {},
   "source": [
    "## \n",
    "[vm]from: 0x5B3...eddC4to: HelloInString.(constructor)value: 0 weidata: 0x608...c0033logs: 0hash: 0x16e...b3f66\n",
    "\n",
    "status\ttrue Transaction mined and execution succeed\n",
    "\n",
    "transaction hash\t0x16e6d8a3882e2acd47768695513b2d10b615aade42e769e03a6539d4e22b3f66\n",
    "\n",
    "from\t0x5B38Da6a701c568545dCfcB03FcB875f56beddC4\n",
    "\n",
    "to\tHelloInString.(constructor)\n",
    "\n",
    "gas\t482946 gas\n",
    "\n",
    "transaction cost\t419953 gas \n",
    "\n",
    "execution cost\t419953 gas \n",
    "\n",
    "input\t0x608...c0033\n",
    "\n",
    "decoded input\t{}\n",
    "\n",
    "decoded output\t - \n",
    "\n",
    "logs\t[]\n",
    "\n",
    "val\t0 wei"
   ]
  },
  {
   "cell_type": "markdown",
   "id": "a395a999",
   "metadata": {},
   "source": [
    "## setWhom 완료 로그"
   ]
  },
  {
   "cell_type": "markdown",
   "id": "b2017252",
   "metadata": {},
   "source": [
    "### smu를 16진수로 변환하여 0x736d75 로 대입하였다"
   ]
  },
  {
   "cell_type": "markdown",
   "id": "03e71ab8",
   "metadata": {},
   "source": [
    "## \n",
    "[vm]from: 0x5B3...eddC4to: HelloInString.(fallback) 0x9D7...b5E99value: 0 weidata: 0x820...00000logs: 0hash: 0x39b...d5916\n",
    "\n",
    "status\ttrue Transaction mined and execution succeed\n",
    "\n",
    "transaction hash\t0x39bcf119bf87768314b318a80446c91b705b5d2778f4c34608f11a75fe9d5916\n",
    "\n",
    "from\t0x5B38Da6a701c568545dCfcB03FcB875f56beddC4\n",
    "\n",
    "to\tHelloInString.(fallback) 0x9D7f74d0C41E726EC95884E0e97Fa6129e3b5E99\n",
    "\n",
    "gas\t31441 gas\n",
    "\n",
    "transaction cost\t27340 gas \n",
    "\n",
    "execution cost\t27340 gas \n",
    "\n",
    "input\t0x820...00000\n",
    "\n",
    "decoded input\t-\n",
    "\n",
    "decoded output\t - \n",
    "\n",
    "logs\t[]\n",
    "\n",
    "val\t0 wei"
   ]
  },
  {
   "cell_type": "markdown",
   "id": "ddd6924c",
   "metadata": {},
   "source": [
    "## getWhom 완료 로그"
   ]
  },
  {
   "cell_type": "markdown",
   "id": "e18f7403",
   "metadata": {},
   "source": [
    "## CALL\n",
    "[call]from: 0x5B38Da6a701c568545dCfcB03FcB875f56beddC4to: HelloInString.getWhom()data: 0x3c5...00c0e\n",
    "\n",
    "from\t0x5B38Da6a701c568545dCfcB03FcB875f56beddC4\n",
    "\n",
    "to\tHelloInString.getWhom() 0x9D7f74d0C41E726EC95884E0e97Fa6129e3b5E99\n",
    "\n",
    "execution cost\t24505 gas (Cost only applies when called by a contract)\n",
    "\n",
    "input\t0x3c5...00c0e\n",
    "\n",
    "decoded input\t{}\n",
    "\n",
    "decoded output\t{\n",
    "\t\"0\": \"string: smu\"\n",
    "}\n",
    "\n",
    "logs\t[]"
   ]
  },
  {
   "cell_type": "markdown",
   "id": "89991f70",
   "metadata": {},
   "source": [
    "## HelloInBytes 완료 로그"
   ]
  },
  {
   "cell_type": "markdown",
   "id": "e2051c66",
   "metadata": {},
   "source": [
    "## CALL\n",
    "[call]from: 0x5B38Da6a701c568545dCfcB03FcB875f56beddC4to: HelloInString.sayHello()data: 0xef5...fb05b\n",
    "\n",
    "from\t0x5B38Da6a701c568545dCfcB03FcB875f56beddC4\n",
    "\n",
    "to\tHelloInString.sayHello() 0x9D7f74d0C41E726EC95884E0e97Fa6129e3b5E99\n",
    "\n",
    "execution cost\t24751 gas (Cost only applies when called by a contract)\n",
    "\n",
    "input\t0xef5...fb05b\n",
    "\n",
    "decoded input\t{}\n",
    "\n",
    "decoded output\t{\n",
    "\t\"0\": \"string: hello smu\"\n",
    "}\n",
    "\n",
    "logs\t[]"
   ]
  },
  {
   "cell_type": "markdown",
   "id": "2a13a6e5",
   "metadata": {},
   "source": [
    "### 배포할 때\n",
    "HelloInString\n",
    "\n",
    "gas : 482919 gas\n",
    "\n",
    "transaction cost : 419929 gas \n",
    "\n",
    "execution cost : 419929 gas \n",
    "\n",
    "HelloInBytes\n",
    "\n",
    "gas : 482946 gas\n",
    "\n",
    "transaction cost : 419953 gas \n",
    "\n",
    "execution cost : 419953 gas "
   ]
  },
  {
   "cell_type": "markdown",
   "id": "56512336",
   "metadata": {},
   "source": [
    "### sayHello\n",
    "HelloInString\n",
    "\n",
    "execution cost : 24751 gas\n",
    "\n",
    "HelloInBytes\n",
    "\n",
    "execution cost : 24751 gas"
   ]
  }
 ],
 "metadata": {
  "kernelspec": {
   "display_name": "Python 3 (ipykernel)",
   "language": "python",
   "name": "python3"
  },
  "language_info": {
   "codemirror_mode": {
    "name": "ipython",
    "version": 3
   },
   "file_extension": ".py",
   "mimetype": "text/x-python",
   "name": "python",
   "nbconvert_exporter": "python",
   "pygments_lexer": "ipython3",
   "version": "3.10.2"
  }
 },
 "nbformat": 4,
 "nbformat_minor": 5
}
